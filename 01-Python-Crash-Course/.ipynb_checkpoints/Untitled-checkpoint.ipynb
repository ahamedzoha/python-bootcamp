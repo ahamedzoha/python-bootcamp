{
 "cells": [
  {
   "cell_type": "code",
   "execution_count": 50,
   "metadata": {},
   "outputs": [
    {
     "name": "stdout",
     "output_type": "stream",
     "text": [
      "Please enter a valid email address\n",
      "Please enter a valid email address\n"
     ]
    }
   ],
   "source": [
    "def getdomain(email = \"\"):\n",
    "    isFound = False\n",
    "    \n",
    "    for i in range(len(email)):\n",
    "        \n",
    "        if email[i] == \"@\":\n",
    "            isFound = True\n",
    "            return email[i+1:len(email)]\n",
    "        else:\n",
    "            continue\n",
    "    if isFound:\n",
    "        print(\"domain found!\")\n",
    "    else:\n",
    "        print(\"Please enter a valid email address\")\n",
    "    \n",
    "getdomain(\"ahamed.zoha@gmail.com\")    \n",
    "getdomain(\"zoha@farzanashams.com\")\n",
    "getdomain(\"mca.com\")\n",
    "getdomain(\"\")\n"
   ]
  },
  {
   "cell_type": "code",
   "execution_count": 70,
   "metadata": {},
   "outputs": [
    {
     "data": {
      "text/plain": [
       "True"
      ]
     },
     "execution_count": 70,
     "metadata": {},
     "output_type": "execute_result"
    }
   ],
   "source": [
    "def findDog(statement = \"\"):\n",
    "    isFound = False\n",
    "    \n",
    "    for i in range(len(statement)):\n",
    "        #print(statement[i])\n",
    "        \n",
    "        if statement[i] == 'd':\n",
    "            if statement[i+1] == 'o':\n",
    "                if statement[i+2] == 'g':\n",
    "                    isFound = True\n",
    "                    return True\n",
    "            \n",
    "            \n",
    "    if isFound == True:\n",
    "        print(\"yay! we found a doggo\")\n",
    "    else:\n",
    "        print(\"wait! where did it go?\")\n",
    "            \n",
    "                    \n",
    "        \n",
    "findDog(\"the brown fox jumped over the lazy dog\")"
   ]
  },
  {
   "cell_type": "code",
   "execution_count": 71,
   "metadata": {},
   "outputs": [
    {
     "ename": "IndentationError",
     "evalue": "expected an indented block (<ipython-input-71-f98df60e1634>, line 6)",
     "output_type": "error",
     "traceback": [
      "\u001b[1;36m  File \u001b[1;32m\"<ipython-input-71-f98df60e1634>\"\u001b[1;36m, line \u001b[1;32m6\u001b[0m\n\u001b[1;33m    if statement[i] == 'd':\u001b[0m\n\u001b[1;37m     ^\u001b[0m\n\u001b[1;31mIndentationError\u001b[0m\u001b[1;31m:\u001b[0m expected an indented block\n"
     ]
    }
   ],
   "source": [
    "def countDog(statement = \"\"):\n",
    "    counter = 0\n",
    "    for i in range(len(statement)):\n",
    "    #print(statement[i])\n",
    "\n",
    "        if statement[i] == 'd':\n",
    "            if statement[i+1] == 'o':\n",
    "                if statement[i+2] == 'g':\n",
    "                    counter + 1\n",
    "                    continue\n",
    "            \n",
    "            \n",
    "countDog('This dog runs faster than the other dog dude!')"
   ]
  }
 ],
 "metadata": {
  "kernelspec": {
   "display_name": "Python 3",
   "language": "python",
   "name": "python3"
  },
  "language_info": {
   "codemirror_mode": {
    "name": "ipython",
    "version": 3
   },
   "file_extension": ".py",
   "mimetype": "text/x-python",
   "name": "python",
   "nbconvert_exporter": "python",
   "pygments_lexer": "ipython3",
   "version": "3.7.4"
  }
 },
 "nbformat": 4,
 "nbformat_minor": 4
}
