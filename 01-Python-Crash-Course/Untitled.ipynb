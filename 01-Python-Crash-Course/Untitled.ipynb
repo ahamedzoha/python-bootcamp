{
 "cells": [
  {
   "cell_type": "code",
   "execution_count": 50,
   "metadata": {},
   "outputs": [
    {
     "name": "stdout",
     "output_type": "stream",
     "text": [
      "Please enter a valid email address\n",
      "Please enter a valid email address\n"
     ]
    }
   ],
   "source": [
    "def getdomain(email = \"\"):\n",
    "    isFound = False\n",
    "    \n",
    "    for i in range(len(email)):\n",
    "        \n",
    "        if email[i] == \"@\":\n",
    "            isFound = True\n",
    "            return email[i+1:len(email)]\n",
    "        else:\n",
    "            continue\n",
    "    if isFound:\n",
    "        print(\"domain found!\")\n",
    "    else:\n",
    "        print(\"Please enter a valid email address\")\n",
    "    \n",
    "getdomain(\"ahamed.zoha@gmail.com\")    \n",
    "getdomain(\"zoha@farzanashams.com\")\n",
    "getdomain(\"mca.com\")\n",
    "getdomain(\"\")\n"
   ]
  },
  {
   "cell_type": "code",
   "execution_count": 70,
   "metadata": {},
   "outputs": [
    {
     "data": {
      "text/plain": [
       "True"
      ]
     },
     "execution_count": 70,
     "metadata": {},
     "output_type": "execute_result"
    }
   ],
   "source": [
    "def findDog(statement = \"\"):\n",
    "    isFound = False\n",
    "    \n",
    "    for i in range(len(statement)):\n",
    "        #print(statement[i])\n",
    "        \n",
    "        if statement[i] == 'd':\n",
    "            if statement[i+1] == 'o':\n",
    "                if statement[i+2] == 'g':\n",
    "                    isFound = True\n",
    "                    return True\n",
    "            \n",
    "            \n",
    "    if isFound == True:\n",
    "        print(\"yay! we found a doggo\")\n",
    "    else:\n",
    "        print(\"wait! where did it go?\")\n",
    "            \n",
    "                    \n",
    "        \n",
    "findDog(\"the brown fox jumped over the lazy dog\")"
   ]
  },
  {
   "cell_type": "code",
   "execution_count": 82,
   "metadata": {},
   "outputs": [
    {
     "data": {
      "text/plain": [
       "2"
      ]
     },
     "execution_count": 82,
     "metadata": {},
     "output_type": "execute_result"
    }
   ],
   "source": [
    "def countDog(statement = \"\"):\n",
    "    counter = 0\n",
    "    for i in range(len(statement)):\n",
    "\n",
    "        if statement[i] == 'd':\n",
    "            if statement[i+1] == 'o':\n",
    "                if statement[i+2] == 'g':\n",
    "                    counter = counter + 1\n",
    "    return counter\n",
    "            \n",
    "            \n",
    "countDog('This dog runs faster than the other dog dude!')"
   ]
  },
  {
   "cell_type": "markdown",
   "metadata": {},
   "source": [
    "** Use lambda expressions and the filter() function to filter out words from a list that don't start with the letter 's'. For example:**\n",
    "\n",
    "    seq = ['soup','dog','salad','cat','great']\n",
    "\n",
    "**should be filtered down to:**\n",
    "\n",
    "    ['soup','salad']"
   ]
  },
  {
   "cell_type": "code",
   "execution_count": null,
   "metadata": {},
   "outputs": [],
   "source": [
    "seq = ['soup','dog','salad','cat','great']\n",
    "\n"
   ]
  }
 ],
 "metadata": {
  "kernelspec": {
   "display_name": "Python 3",
   "language": "python",
   "name": "python3"
  },
  "language_info": {
   "codemirror_mode": {
    "name": "ipython",
    "version": 3
   },
   "file_extension": ".py",
   "mimetype": "text/x-python",
   "name": "python",
   "nbconvert_exporter": "python",
   "pygments_lexer": "ipython3",
   "version": "3.7.4"
  }
 },
 "nbformat": 4,
 "nbformat_minor": 4
}
