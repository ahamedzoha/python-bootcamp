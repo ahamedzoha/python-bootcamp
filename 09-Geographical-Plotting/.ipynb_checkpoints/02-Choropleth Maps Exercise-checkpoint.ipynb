{
 "cells": [
  {
   "cell_type": "markdown",
   "metadata": {},
   "source": [
    "___\n",
    "\n",
    "<a href='http://www.pieriandata.com'> <img src='../Pierian_Data_Logo.png' /></a>\n",
    "___"
   ]
  },
  {
   "cell_type": "markdown",
   "metadata": {},
   "source": [
    "# Choropleth Maps Exercise \n",
    "\n",
    "Welcome to the Choropleth Maps Exercise! In this exercise we will give you some simple datasets and ask you to create Choropleth Maps from them. Due to the Nature of Plotly we can't show you examples\n",
    "\n",
    "[Full Documentation Reference](https://plot.ly/python/reference/#choropleth)\n",
    "\n",
    "## Plotly Imports"
   ]
  },
  {
   "cell_type": "code",
   "execution_count": 1,
   "metadata": {},
   "outputs": [
    {
     "data": {
      "text/html": [
       "        <script type=\"text/javascript\">\n",
       "        window.PlotlyConfig = {MathJaxConfig: 'local'};\n",
       "        if (window.MathJax) {MathJax.Hub.Config({SVG: {font: \"STIX-Web\"}});}\n",
       "        if (typeof require !== 'undefined') {\n",
       "        require.undef(\"plotly\");\n",
       "        requirejs.config({\n",
       "            paths: {\n",
       "                'plotly': ['https://cdn.plot.ly/plotly-latest.min']\n",
       "            }\n",
       "        });\n",
       "        require(['plotly'], function(Plotly) {\n",
       "            window._Plotly = Plotly;\n",
       "        });\n",
       "        }\n",
       "        </script>\n",
       "        "
      ]
     },
     "metadata": {},
     "output_type": "display_data"
    }
   ],
   "source": [
    "import plotly.graph_objs as go \n",
    "from plotly.offline import init_notebook_mode,iplot\n",
    "init_notebook_mode(connected=True) "
   ]
  },
  {
   "cell_type": "markdown",
   "metadata": {},
   "source": [
    "** Import pandas and read the csv file: 2014_World_Power_Consumption**"
   ]
  },
  {
   "cell_type": "code",
   "execution_count": 4,
   "metadata": {},
   "outputs": [],
   "source": [
    "import pandas as pd\n",
    "df = pd.read_csv('2014_World_Power_Consumption')"
   ]
  },
  {
   "cell_type": "code",
   "execution_count": 9,
   "metadata": {
    "collapsed": false,
    "jupyter": {
     "outputs_hidden": false
    }
   },
   "outputs": [
    {
     "data": {
      "text/plain": [
       "148    1.295000e+09\n",
       "168    5.624000e+08\n",
       "57     3.788000e+10\n",
       "82     1.294000e+10\n",
       "133    3.008000e+09\n",
       "Name: Power Consumption KWH, dtype: float64"
      ]
     },
     "execution_count": 9,
     "metadata": {},
     "output_type": "execute_result"
    }
   ],
   "source": [
    "df.head()\n",
    "df.sample(5)['Power Consumption KWH']"
   ]
  },
  {
   "cell_type": "markdown",
   "metadata": {},
   "source": [
    "** Check the head of the DataFrame. **"
   ]
  },
  {
   "cell_type": "code",
   "execution_count": 156,
   "metadata": {
    "collapsed": false,
    "jupyter": {
     "outputs_hidden": false
    }
   },
   "outputs": [
    {
     "data": {
      "text/html": [
       "<div>\n",
       "<table border=\"1\" class=\"dataframe\">\n",
       "  <thead>\n",
       "    <tr style=\"text-align: right;\">\n",
       "      <th></th>\n",
       "      <th>Country</th>\n",
       "      <th>Power Consumption KWH</th>\n",
       "      <th>Text</th>\n",
       "    </tr>\n",
       "  </thead>\n",
       "  <tbody>\n",
       "    <tr>\n",
       "      <th>0</th>\n",
       "      <td>China</td>\n",
       "      <td>5.523000e+12</td>\n",
       "      <td>China 5,523,000,000,000</td>\n",
       "    </tr>\n",
       "    <tr>\n",
       "      <th>1</th>\n",
       "      <td>United States</td>\n",
       "      <td>3.832000e+12</td>\n",
       "      <td>United 3,832,000,000,000</td>\n",
       "    </tr>\n",
       "    <tr>\n",
       "      <th>2</th>\n",
       "      <td>European</td>\n",
       "      <td>2.771000e+12</td>\n",
       "      <td>European 2,771,000,000,000</td>\n",
       "    </tr>\n",
       "    <tr>\n",
       "      <th>3</th>\n",
       "      <td>Russia</td>\n",
       "      <td>1.065000e+12</td>\n",
       "      <td>Russia 1,065,000,000,000</td>\n",
       "    </tr>\n",
       "    <tr>\n",
       "      <th>4</th>\n",
       "      <td>Japan</td>\n",
       "      <td>9.210000e+11</td>\n",
       "      <td>Japan 921,000,000,000</td>\n",
       "    </tr>\n",
       "  </tbody>\n",
       "</table>\n",
       "</div>"
      ],
      "text/plain": [
       "         Country  Power Consumption KWH                        Text\n",
       "0          China           5.523000e+12     China 5,523,000,000,000\n",
       "1  United States           3.832000e+12    United 3,832,000,000,000\n",
       "2       European           2.771000e+12  European 2,771,000,000,000\n",
       "3         Russia           1.065000e+12    Russia 1,065,000,000,000\n",
       "4          Japan           9.210000e+11       Japan 921,000,000,000"
      ]
     },
     "execution_count": 156,
     "metadata": {},
     "output_type": "execute_result"
    }
   ],
   "source": []
  },
  {
   "cell_type": "markdown",
   "metadata": {},
   "source": [
    "** Referencing the lecture notes, create a Choropleth Plot of the Power Consumption for Countries using the data and layout dictionary. **"
   ]
  },
  {
   "cell_type": "code",
   "execution_count": 15,
   "metadata": {},
   "outputs": [],
   "source": [
    "data = dict(\n",
    "    type= 'choropleth',\n",
    "    locationmode = \"country names\",\n",
    "    locations= df['Country'],\n",
    "    z= df['Power Consumption KWH'],\n",
    "    text = df['Text'],\n",
    "    colorbar = {'title': 'Power Consumptions (KWH)'}\n",
    ")\n",
    "\n",
    "layout = dict(\n",
    "    title= \"2014 World Power Consumption\",\n",
    "    geo = dict(\n",
    "        showframe = False,\n",
    "        projection = {'type':'mercator'}\n",
    "    )\n",
    ")"
   ]
  },
  {
   "cell_type": "code",
   "execution_count": 16,
   "metadata": {
    "collapsed": false,
    "jupyter": {
     "outputs_hidden": false
    }
   },
   "outputs": [
    {
     "data": {
      "application/vnd.plotly.v1+json": {
       "config": {
        "linkText": "Export to plot.ly",
        "plotlyServerURL": "https://plot.ly",
        "showLink": false
       },
       "data": [
        {
         "colorbar": {
          "title": {
           "text": "Power Consumptions (KWH)"
          }
         },
         "locationmode": "country names",
         "locations": [
          "China",
          "United States",
          "European",
          "Russia",
          "Japan",
          "India",
          "Germany",
          "Canada",
          "Brazil",
          "Korea,",
          "France",
          "United Kingdom",
          "Italy",
          "Taiwan",
          "Spain",
          "Mexico",
          "Saudi",
          "Australia",
          "South",
          "Turkey",
          "Iran",
          "Indonesia",
          "Ukraine",
          "Thailand",
          "Poland",
          "Egypt",
          "Sweden",
          "Norway",
          "Malaysia",
          "Argentina",
          "Netherlands",
          "Vietnam",
          "Venezuela",
          "United Arab Emirates",
          "Finland",
          "Belgium",
          "Kazakhstan",
          "Pakistan",
          "Philippines",
          "Austria",
          "Chile",
          "Czechia",
          "Israel",
          "Switzerland",
          "Greece",
          "Iraq",
          "Romania",
          "Kuwait",
          "Colombia",
          "Singapore",
          "Portugal",
          "Uzbekistan",
          "Hong",
          "Algeria",
          "Bangladesh",
          "New",
          "Bulgaria",
          "Belarus",
          "Peru",
          "Denmark",
          "Qatar",
          "Slovakia",
          "Libya",
          "Serbia",
          "Morocco",
          "Syria",
          "Nigeria",
          "Ireland",
          "Hungary",
          "Oman",
          "Ecuador",
          "Puerto",
          "Azerbaijan",
          "Croatia",
          "Iceland",
          "Cuba",
          "Korea,",
          "Dominican",
          "Jordan",
          "Tajikistan",
          "Tunisia",
          "Slovenia",
          "Lebanon",
          "Bosnia",
          "Turkmenistan",
          "Bahrain",
          "Mozambique",
          "Ghana",
          "Sri",
          "Kyrgyzstan",
          "Lithuania",
          "Uruguay",
          "Costa",
          "Guatemala",
          "Georgia",
          "Trinidad",
          "Zambia",
          "Paraguay",
          "Albania",
          "Burma",
          "Estonia",
          "Congo,",
          "Panama",
          "Latvia",
          "Macedonia",
          "Zimbabwe",
          "Kenya",
          "Bolivia",
          "Luxembourg",
          "Sudan",
          "El",
          "Cameroon",
          "West",
          "Ethiopia",
          "Armenia",
          "Honduras",
          "Angola",
          "Cote",
          "Tanzania",
          "Nicaragua",
          "Moldova",
          "Cyprus",
          "Macau",
          "Namibia",
          "Mongolia",
          "Afghanistan",
          "Yemen",
          "Brunei",
          "Cambodia",
          "Montenegro",
          "Nepal",
          "Botswana",
          "Papua",
          "Jamaica",
          "Kosovo",
          "Laos",
          "Uganda",
          "New",
          "Mauritius",
          "Senegal",
          "Bhutan",
          "Malawi",
          "Madagascar",
          "Bahamas,",
          "Gabon",
          "Suriname",
          "Guam",
          "Liechtenstein",
          "Swaziland",
          "Burkina",
          "Togo",
          "Curacao",
          "Mauritania",
          "Barbados",
          "Niger",
          "Aruba",
          "Benin",
          "Guinea",
          "Mali",
          "Fiji",
          "Congo,",
          "Virgin",
          "Lesotho",
          "South",
          "Bermuda",
          "French",
          "Jersey",
          "Belize",
          "Andorra",
          "Guyana",
          "Cayman",
          "Haiti",
          "Rwanda",
          "Saint",
          "Djibouti",
          "Seychelles",
          "Somalia",
          "Antigua",
          "Greenland",
          "Cabo",
          "Eritrea",
          "Burundi",
          "Liberia",
          "Maldives",
          "Faroe",
          "Gambia,",
          "Chad",
          "Micronesia,",
          "Grenada",
          "Central",
          "Turks",
          "Gibraltar",
          "American",
          "Sierra",
          "Saint",
          "Saint",
          "Timor-Leste",
          "Equatorial",
          "Samoa",
          "Dominica",
          "Western",
          "Solomon",
          "Sao",
          "British",
          "Vanuatu",
          "Guinea-Bissau",
          "Tonga",
          "Saint",
          "Comoros",
          "Cook",
          "Kiribati",
          "Montserrat",
          "Nauru",
          "Falkland",
          "Saint",
          "Niue",
          "Gaza",
          "Malta",
          "Northern"
         ],
         "text": [
          "China 5,523,000,000,000",
          "United 3,832,000,000,000",
          "European 2,771,000,000,000",
          "Russia 1,065,000,000,000",
          "Japan 921,000,000,000",
          "India 864,700,000,000",
          "Germany 540,100,000,000",
          "Canada 511,000,000,000",
          "Brazil 483,500,000,000",
          "Korea, 482,400,000,000",
          "France 451,100,000,000",
          "United 319,100,000,000",
          "Italy 303,100,000,000",
          "Taiwan 249,500,000,000",
          "Spain 243,100,000,000",
          "Mexico 234,000,000,000",
          "Saudi 231,600,000,000",
          "Australia 222,600,000,000",
          "South 211,600,000,000",
          "Turkey 197,000,000,000",
          "Iran 195,300,000,000",
          "Indonesia 167,500,000,000",
          "Ukraine 159,800,000,000",
          "Thailand 155,900,000,000",
          "Poland 139,000,000,000",
          "Egypt 135,600,000,000",
          "Sweden 130,500,000,000",
          "Norway 126,400,000,000",
          "Malaysia 118,500,000,000",
          "Argentina 117,100,000,000",
          "Netherlands 116,800,000,000",
          "Vietnam 108,300,000,000",
          "Venezuela 97,690,000,000",
          "United 93,280,000,000",
          "Finland 82,040,000,000",
          "Belgium 81,890,000,000",
          "Kazakhstan 80,290,000,000",
          "Pakistan 78,890,000,000",
          "Philippines 75,270,000,000",
          "Austria 69,750,000,000",
          "Chile 63,390,000,000",
          "Czechia 60,550,000,000",
          "Israel 59,830,000,000",
          "Switzerland 58,010,000,000",
          "Greece 57,730,000,000",
          "Iraq 53,410,000,000",
          "Romania 50,730,000,000",
          "Kuwait 50,000,000,000",
          "Colombia 49,380,000,000",
          "Singapore 47,180,000,000",
          "Portugal 46,250,000,000",
          "Uzbekistan 45,210,000,000",
          "Hong 44,210,000,000",
          "Algeria 42,870,000,000",
          "Bangladesh 41,520,000,000",
          "New 40,300,000,000",
          "Bulgaria 37,990,000,000",
          "Belarus 37,880,000,000",
          "Peru 35,690,000,000",
          "Denmark 31,960,000,000",
          "Qatar 30,530,000,000",
          "Slovakia 28,360,000,000",
          "Libya 27,540,000,000",
          "Serbia 26,910,000,000",
          "Morocco 26,700,000,000",
          "Syria 25,700,000,000",
          "Nigeria 24,780,000,000",
          "Ireland 24,240,000,000",
          "Hungary 21,550,000,000",
          "Oman 20,360,000,000",
          "Ecuador 19,020,000,000",
          "Puerto 18,620,000,000",
          "Azerbaijan 17,790,000,000",
          "Croatia 16,970,000,000",
          "Iceland 16,940,000,000",
          "Cuba 16,200,000,000",
          "Korea, 16,000,000,000",
          "Dominican 15,140,000,000",
          "Jordan 14,560,000,000",
          "Tajikistan 14,420,000,000",
          "Tunisia 13,310,000,000",
          "Slovenia 13,020,000,000",
          "Lebanon 12,940,000,000",
          "Bosnia 12,560,000,000",
          "Turkmenistan 11,750,000,000",
          "Bahrain 11,690,000,000",
          "Mozambique 11,280,000,000",
          "Ghana 10,580,000,000",
          "Sri 10,170,000,000",
          "Kyrgyzstan 9,943,000,000",
          "Lithuania 9,664,000,000",
          "Uruguay 9,559,000,000",
          "Costa 8,987,000,000",
          "Guatemala 8,915,000,000",
          "Georgia 8,468,000,000",
          "Trinidad 8,365,000,000",
          "Zambia 8,327,000,000",
          "Paraguay 8,125,000,000",
          "Albania 7,793,000,000",
          "Burma 7,765,000,000",
          "Estonia 7,417,000,000",
          "Congo, 7,292,000,000",
          "Panama 7,144,000,000",
          "Latvia 7,141,000,000",
          "Macedonia 6,960,000,000",
          "Zimbabwe 6,831,000,000",
          "Kenya 6,627,000,000",
          "Bolivia 6,456,000,000",
          "Luxembourg 6,108,000,000",
          "Sudan 5,665,000,000",
          "El 5,665,000,000",
          "Cameroon 5,535,000,000",
          "West 5,312,000,000",
          "Ethiopia 5,227,000,000",
          "Armenia 5,043,000,000",
          "Honduras 5,036,000,000",
          "Angola 4,842,000,000",
          "Cote 4,731,000,000",
          "Tanzania 4,545,000,000",
          "Nicaragua 4,412,000,000",
          "Moldova 4,305,000,000",
          "Cyprus 4,296,000,000",
          "Macau 4,291,000,000",
          "Namibia 4,238,000,000",
          "Mongolia 4,204,000,000",
          "Afghanistan 3,893,000,000",
          "Yemen 3,838,000,000",
          "Brunei 3,766,000,000",
          "Cambodia 3,553,000,000",
          "Montenegro 3,465,000,000",
          "Nepal 3,239,000,000",
          "Botswana 3,213,000,000",
          "Papua 3,116,000,000",
          "Jamaica 3,008,000,000",
          "Kosovo 2,887,000,000",
          "Laos 2,874,000,000",
          "Uganda 2,821,000,000",
          "New 2,716,000,000",
          "Mauritius 2,658,000,000",
          "Senegal 2,586,000,000",
          "Bhutan 2,085,000,000",
          "Malawi 2,027,000,000",
          "Madagascar 1,883,000,000",
          "Bahamas, 1,716,000,000",
          "Gabon 1,680,000,000",
          "Suriname 1,572,000,000",
          "Guam 1,566,000,000",
          "Liechtenstein 1,360,000,000",
          "Swaziland 1,295,000,000",
          "Burkina 985,500,000",
          "Togo 976,000,000",
          "Curacao 968,000,000",
          "Mauritania 962,600,000",
          "Barbados 938,000,000",
          "Niger 930,200,000",
          "Aruba 920,700,000",
          "Benin 911,000,000",
          "Guinea 903,000,000",
          "Mali 882,600,000",
          "Fiji 777,600,000",
          "Congo, 740,000,000",
          "Virgin 723,500,000",
          "Lesotho 707,000,000",
          "South 694,100,000",
          "Bermuda 664,200,000",
          "French 652,900,000",
          "Jersey 630,100,000",
          "Belize 605,000,000",
          "Andorra 562,400,000",
          "Guyana 558,000,000",
          "Cayman 545,900,000",
          "Haiti 452,000,000",
          "Rwanda 365,500,000",
          "Saint 336,400,000",
          "Djibouti 311,600,000",
          "Seychelles 293,900,000",
          "Somalia 293,000,000",
          "Antigua 293,000,000",
          "Greenland 292,000,000",
          "Cabo 285,500,000",
          "Eritrea 284,000,000",
          "Burundi 282,900,000",
          "Liberia 276,900,000",
          "Maldives 267,100,000",
          "Faroe 261,300,000",
          "Gambia, 218,600,000",
          "Chad 190,700,000",
          "Micronesia, 178,600,000",
          "Grenada 178,000,000",
          "Central 168,300,000",
          "Turks 167,400,000",
          "Gibraltar 160,000,000",
          "American 146,000,000",
          "Sierra 134,900,000",
          "Saint 130,200,000",
          "Saint 127,400,000",
          "Timor-Leste 125,300,000",
          "Equatorial 93,000,000",
          "Samoa 90,400,000",
          "Dominica 89,750,000",
          "Western 83,700,000",
          "Solomon 79,050,000",
          "Sao 60,450,000",
          "British 51,150,000",
          "Vanuatu 49,290,000",
          "Guinea-Bissau 46,500,000",
          "Tonga 44,640,000",
          "Saint 39,990,000",
          "Comoros 39,990,000",
          "Cook 28,950,000",
          "Kiribati 24,180,000",
          "Montserrat 23,250,000",
          "Nauru 23,250,000",
          "Falkland 11,160,000",
          "Saint 7,440,000",
          "Niue 2,790,000",
          "Gaza 202,000",
          "Malta 174,700",
          "Northern 48,300"
         ],
         "type": "choropleth",
         "z": [
          5523000000000,
          3832000000000,
          2771000000000,
          1065000000000,
          921000000000,
          864700000000,
          540100000000,
          511000000000,
          483500000000,
          482400000000,
          451100000000,
          319100000000,
          303100000000,
          249500000000,
          243100000000,
          234000000000,
          231600000000,
          222600000000,
          211600000000,
          197000000000,
          195300000000,
          167500000000,
          159800000000,
          155900000000,
          139000000000,
          135600000000,
          130500000000,
          126400000000,
          118500000000,
          117100000000,
          116800000000,
          108300000000,
          97690000000,
          93280000000,
          82040000000,
          81890000000,
          80290000000,
          78890000000,
          75270000000,
          69750000000,
          63390000000,
          60550000000,
          59830000000,
          58010000000,
          57730000000,
          53410000000,
          50730000000,
          50000000000,
          49380000000,
          47180000000,
          46250000000,
          45210000000,
          44210000000,
          42870000000,
          41520000000,
          40300000000,
          37990000000,
          37880000000,
          35690000000,
          31960000000,
          30530000000,
          28360000000,
          27540000000,
          26910000000,
          26700000000,
          25700000000,
          24780000000,
          24240000000,
          21550000000,
          20360000000,
          19020000000,
          18620000000,
          17790000000,
          16970000000,
          16940000000,
          16200000000,
          16000000000,
          15140000000,
          14560000000,
          14420000000,
          13310000000,
          13020000000,
          12940000000,
          12560000000,
          11750000000,
          11690000000,
          11280000000,
          10580000000,
          10170000000,
          9943000000,
          9664000000,
          9559000000,
          8987000000,
          8915000000,
          8468000000,
          8365000000,
          8327000000,
          8125000000,
          7793000000,
          7765000000,
          7417000000,
          7292000000,
          7144000000,
          7141000000,
          6960000000,
          6831000000,
          6627000000,
          6456000000,
          6108000000,
          5665000000,
          5665000000,
          5535000000,
          5312000000,
          5227000000,
          5043000000,
          5036000000,
          4842000000,
          4731000000,
          4545000000,
          4412000000,
          4305000000,
          4296000000,
          4291000000,
          4238000000,
          4204000000,
          3893000000,
          3838000000,
          3766000000,
          3553000000,
          3465000000,
          3239000000,
          3213000000,
          3116000000,
          3008000000,
          2887000000,
          2874000000,
          2821000000,
          2716000000,
          2658000000,
          2586000000,
          2085000000,
          2027000000,
          1883000000,
          1716000000,
          1680000000,
          1572000000,
          1566000000,
          1360000000,
          1295000000,
          985500000,
          976000000,
          968000000,
          962600000,
          938000000,
          930200000,
          920700000,
          911000000,
          903000000,
          882600000,
          777600000,
          740000000,
          723500000,
          707000000,
          694100000,
          664200000,
          652900000,
          630100000,
          605000000,
          562400000,
          558000000,
          545900000,
          452000000,
          365500000,
          336400000,
          311600000,
          293900000,
          293000000,
          293000000,
          292000000,
          285500000,
          284000000,
          282900000,
          276900000,
          267100000,
          261300000,
          218600000,
          190700000,
          178600000,
          178000000,
          168300000,
          167400000,
          160000000,
          146000000,
          134900000,
          130200000,
          127400000,
          125300000,
          93000000,
          90400000,
          89750000,
          83700000,
          79050000,
          60450000,
          51150000,
          49290000,
          46500000,
          44640000,
          39990000,
          39990000,
          28950000,
          24180000,
          23250000,
          23250000,
          11160000,
          7440000,
          2790000,
          202000,
          174700,
          48300
         ]
        }
       ],
       "layout": {
        "autosize": true,
        "geo": {
         "projection": {
          "type": "mercator"
         },
         "showframe": false
        },
        "template": {
         "data": {
          "bar": [
           {
            "error_x": {
             "color": "#2a3f5f"
            },
            "error_y": {
             "color": "#2a3f5f"
            },
            "marker": {
             "line": {
              "color": "#E5ECF6",
              "width": 0.5
             }
            },
            "type": "bar"
           }
          ],
          "barpolar": [
           {
            "marker": {
             "line": {
              "color": "#E5ECF6",
              "width": 0.5
             }
            },
            "type": "barpolar"
           }
          ],
          "carpet": [
           {
            "aaxis": {
             "endlinecolor": "#2a3f5f",
             "gridcolor": "white",
             "linecolor": "white",
             "minorgridcolor": "white",
             "startlinecolor": "#2a3f5f"
            },
            "baxis": {
             "endlinecolor": "#2a3f5f",
             "gridcolor": "white",
             "linecolor": "white",
             "minorgridcolor": "white",
             "startlinecolor": "#2a3f5f"
            },
            "type": "carpet"
           }
          ],
          "choropleth": [
           {
            "colorbar": {
             "outlinewidth": 0,
             "ticks": ""
            },
            "type": "choropleth"
           }
          ],
          "contour": [
           {
            "colorbar": {
             "outlinewidth": 0,
             "ticks": ""
            },
            "colorscale": [
             [
              0,
              "#0d0887"
             ],
             [
              0.1111111111111111,
              "#46039f"
             ],
             [
              0.2222222222222222,
              "#7201a8"
             ],
             [
              0.3333333333333333,
              "#9c179e"
             ],
             [
              0.4444444444444444,
              "#bd3786"
             ],
             [
              0.5555555555555556,
              "#d8576b"
             ],
             [
              0.6666666666666666,
              "#ed7953"
             ],
             [
              0.7777777777777778,
              "#fb9f3a"
             ],
             [
              0.8888888888888888,
              "#fdca26"
             ],
             [
              1,
              "#f0f921"
             ]
            ],
            "type": "contour"
           }
          ],
          "contourcarpet": [
           {
            "colorbar": {
             "outlinewidth": 0,
             "ticks": ""
            },
            "type": "contourcarpet"
           }
          ],
          "heatmap": [
           {
            "colorbar": {
             "outlinewidth": 0,
             "ticks": ""
            },
            "colorscale": [
             [
              0,
              "#0d0887"
             ],
             [
              0.1111111111111111,
              "#46039f"
             ],
             [
              0.2222222222222222,
              "#7201a8"
             ],
             [
              0.3333333333333333,
              "#9c179e"
             ],
             [
              0.4444444444444444,
              "#bd3786"
             ],
             [
              0.5555555555555556,
              "#d8576b"
             ],
             [
              0.6666666666666666,
              "#ed7953"
             ],
             [
              0.7777777777777778,
              "#fb9f3a"
             ],
             [
              0.8888888888888888,
              "#fdca26"
             ],
             [
              1,
              "#f0f921"
             ]
            ],
            "type": "heatmap"
           }
          ],
          "heatmapgl": [
           {
            "colorbar": {
             "outlinewidth": 0,
             "ticks": ""
            },
            "colorscale": [
             [
              0,
              "#0d0887"
             ],
             [
              0.1111111111111111,
              "#46039f"
             ],
             [
              0.2222222222222222,
              "#7201a8"
             ],
             [
              0.3333333333333333,
              "#9c179e"
             ],
             [
              0.4444444444444444,
              "#bd3786"
             ],
             [
              0.5555555555555556,
              "#d8576b"
             ],
             [
              0.6666666666666666,
              "#ed7953"
             ],
             [
              0.7777777777777778,
              "#fb9f3a"
             ],
             [
              0.8888888888888888,
              "#fdca26"
             ],
             [
              1,
              "#f0f921"
             ]
            ],
            "type": "heatmapgl"
           }
          ],
          "histogram": [
           {
            "marker": {
             "colorbar": {
              "outlinewidth": 0,
              "ticks": ""
             }
            },
            "type": "histogram"
           }
          ],
          "histogram2d": [
           {
            "colorbar": {
             "outlinewidth": 0,
             "ticks": ""
            },
            "colorscale": [
             [
              0,
              "#0d0887"
             ],
             [
              0.1111111111111111,
              "#46039f"
             ],
             [
              0.2222222222222222,
              "#7201a8"
             ],
             [
              0.3333333333333333,
              "#9c179e"
             ],
             [
              0.4444444444444444,
              "#bd3786"
             ],
             [
              0.5555555555555556,
              "#d8576b"
             ],
             [
              0.6666666666666666,
              "#ed7953"
             ],
             [
              0.7777777777777778,
              "#fb9f3a"
             ],
             [
              0.8888888888888888,
              "#fdca26"
             ],
             [
              1,
              "#f0f921"
             ]
            ],
            "type": "histogram2d"
           }
          ],
          "histogram2dcontour": [
           {
            "colorbar": {
             "outlinewidth": 0,
             "ticks": ""
            },
            "colorscale": [
             [
              0,
              "#0d0887"
             ],
             [
              0.1111111111111111,
              "#46039f"
             ],
             [
              0.2222222222222222,
              "#7201a8"
             ],
             [
              0.3333333333333333,
              "#9c179e"
             ],
             [
              0.4444444444444444,
              "#bd3786"
             ],
             [
              0.5555555555555556,
              "#d8576b"
             ],
             [
              0.6666666666666666,
              "#ed7953"
             ],
             [
              0.7777777777777778,
              "#fb9f3a"
             ],
             [
              0.8888888888888888,
              "#fdca26"
             ],
             [
              1,
              "#f0f921"
             ]
            ],
            "type": "histogram2dcontour"
           }
          ],
          "mesh3d": [
           {
            "colorbar": {
             "outlinewidth": 0,
             "ticks": ""
            },
            "type": "mesh3d"
           }
          ],
          "parcoords": [
           {
            "line": {
             "colorbar": {
              "outlinewidth": 0,
              "ticks": ""
             }
            },
            "type": "parcoords"
           }
          ],
          "pie": [
           {
            "automargin": true,
            "type": "pie"
           }
          ],
          "scatter": [
           {
            "marker": {
             "colorbar": {
              "outlinewidth": 0,
              "ticks": ""
             }
            },
            "type": "scatter"
           }
          ],
          "scatter3d": [
           {
            "line": {
             "colorbar": {
              "outlinewidth": 0,
              "ticks": ""
             }
            },
            "marker": {
             "colorbar": {
              "outlinewidth": 0,
              "ticks": ""
             }
            },
            "type": "scatter3d"
           }
          ],
          "scattercarpet": [
           {
            "marker": {
             "colorbar": {
              "outlinewidth": 0,
              "ticks": ""
             }
            },
            "type": "scattercarpet"
           }
          ],
          "scattergeo": [
           {
            "marker": {
             "colorbar": {
              "outlinewidth": 0,
              "ticks": ""
             }
            },
            "type": "scattergeo"
           }
          ],
          "scattergl": [
           {
            "marker": {
             "colorbar": {
              "outlinewidth": 0,
              "ticks": ""
             }
            },
            "type": "scattergl"
           }
          ],
          "scattermapbox": [
           {
            "marker": {
             "colorbar": {
              "outlinewidth": 0,
              "ticks": ""
             }
            },
            "type": "scattermapbox"
           }
          ],
          "scatterpolar": [
           {
            "marker": {
             "colorbar": {
              "outlinewidth": 0,
              "ticks": ""
             }
            },
            "type": "scatterpolar"
           }
          ],
          "scatterpolargl": [
           {
            "marker": {
             "colorbar": {
              "outlinewidth": 0,
              "ticks": ""
             }
            },
            "type": "scatterpolargl"
           }
          ],
          "scatterternary": [
           {
            "marker": {
             "colorbar": {
              "outlinewidth": 0,
              "ticks": ""
             }
            },
            "type": "scatterternary"
           }
          ],
          "surface": [
           {
            "colorbar": {
             "outlinewidth": 0,
             "ticks": ""
            },
            "colorscale": [
             [
              0,
              "#0d0887"
             ],
             [
              0.1111111111111111,
              "#46039f"
             ],
             [
              0.2222222222222222,
              "#7201a8"
             ],
             [
              0.3333333333333333,
              "#9c179e"
             ],
             [
              0.4444444444444444,
              "#bd3786"
             ],
             [
              0.5555555555555556,
              "#d8576b"
             ],
             [
              0.6666666666666666,
              "#ed7953"
             ],
             [
              0.7777777777777778,
              "#fb9f3a"
             ],
             [
              0.8888888888888888,
              "#fdca26"
             ],
             [
              1,
              "#f0f921"
             ]
            ],
            "type": "surface"
           }
          ],
          "table": [
           {
            "cells": {
             "fill": {
              "color": "#EBF0F8"
             },
             "line": {
              "color": "white"
             }
            },
            "header": {
             "fill": {
              "color": "#C8D4E3"
             },
             "line": {
              "color": "white"
             }
            },
            "type": "table"
           }
          ]
         },
         "layout": {
          "annotationdefaults": {
           "arrowcolor": "#2a3f5f",
           "arrowhead": 0,
           "arrowwidth": 1
          },
          "coloraxis": {
           "colorbar": {
            "outlinewidth": 0,
            "ticks": ""
           }
          },
          "colorscale": {
           "diverging": [
            [
             0,
             "#8e0152"
            ],
            [
             0.1,
             "#c51b7d"
            ],
            [
             0.2,
             "#de77ae"
            ],
            [
             0.3,
             "#f1b6da"
            ],
            [
             0.4,
             "#fde0ef"
            ],
            [
             0.5,
             "#f7f7f7"
            ],
            [
             0.6,
             "#e6f5d0"
            ],
            [
             0.7,
             "#b8e186"
            ],
            [
             0.8,
             "#7fbc41"
            ],
            [
             0.9,
             "#4d9221"
            ],
            [
             1,
             "#276419"
            ]
           ],
           "sequential": [
            [
             0,
             "#0d0887"
            ],
            [
             0.1111111111111111,
             "#46039f"
            ],
            [
             0.2222222222222222,
             "#7201a8"
            ],
            [
             0.3333333333333333,
             "#9c179e"
            ],
            [
             0.4444444444444444,
             "#bd3786"
            ],
            [
             0.5555555555555556,
             "#d8576b"
            ],
            [
             0.6666666666666666,
             "#ed7953"
            ],
            [
             0.7777777777777778,
             "#fb9f3a"
            ],
            [
             0.8888888888888888,
             "#fdca26"
            ],
            [
             1,
             "#f0f921"
            ]
           ],
           "sequentialminus": [
            [
             0,
             "#0d0887"
            ],
            [
             0.1111111111111111,
             "#46039f"
            ],
            [
             0.2222222222222222,
             "#7201a8"
            ],
            [
             0.3333333333333333,
             "#9c179e"
            ],
            [
             0.4444444444444444,
             "#bd3786"
            ],
            [
             0.5555555555555556,
             "#d8576b"
            ],
            [
             0.6666666666666666,
             "#ed7953"
            ],
            [
             0.7777777777777778,
             "#fb9f3a"
            ],
            [
             0.8888888888888888,
             "#fdca26"
            ],
            [
             1,
             "#f0f921"
            ]
           ]
          },
          "colorway": [
           "#636efa",
           "#EF553B",
           "#00cc96",
           "#ab63fa",
           "#FFA15A",
           "#19d3f3",
           "#FF6692",
           "#B6E880",
           "#FF97FF",
           "#FECB52"
          ],
          "font": {
           "color": "#2a3f5f"
          },
          "geo": {
           "bgcolor": "white",
           "lakecolor": "white",
           "landcolor": "#E5ECF6",
           "showlakes": true,
           "showland": true,
           "subunitcolor": "white"
          },
          "hoverlabel": {
           "align": "left"
          },
          "hovermode": "closest",
          "mapbox": {
           "style": "light"
          },
          "paper_bgcolor": "white",
          "plot_bgcolor": "#E5ECF6",
          "polar": {
           "angularaxis": {
            "gridcolor": "white",
            "linecolor": "white",
            "ticks": ""
           },
           "bgcolor": "#E5ECF6",
           "radialaxis": {
            "gridcolor": "white",
            "linecolor": "white",
            "ticks": ""
           }
          },
          "scene": {
           "xaxis": {
            "backgroundcolor": "#E5ECF6",
            "gridcolor": "white",
            "gridwidth": 2,
            "linecolor": "white",
            "showbackground": true,
            "ticks": "",
            "zerolinecolor": "white"
           },
           "yaxis": {
            "backgroundcolor": "#E5ECF6",
            "gridcolor": "white",
            "gridwidth": 2,
            "linecolor": "white",
            "showbackground": true,
            "ticks": "",
            "zerolinecolor": "white"
           },
           "zaxis": {
            "backgroundcolor": "#E5ECF6",
            "gridcolor": "white",
            "gridwidth": 2,
            "linecolor": "white",
            "showbackground": true,
            "ticks": "",
            "zerolinecolor": "white"
           }
          },
          "shapedefaults": {
           "line": {
            "color": "#2a3f5f"
           }
          },
          "ternary": {
           "aaxis": {
            "gridcolor": "white",
            "linecolor": "white",
            "ticks": ""
           },
           "baxis": {
            "gridcolor": "white",
            "linecolor": "white",
            "ticks": ""
           },
           "bgcolor": "#E5ECF6",
           "caxis": {
            "gridcolor": "white",
            "linecolor": "white",
            "ticks": ""
           }
          },
          "title": {
           "x": 0.05
          },
          "xaxis": {
           "automargin": true,
           "gridcolor": "white",
           "linecolor": "white",
           "ticks": "",
           "title": {
            "standoff": 15
           },
           "zerolinecolor": "white",
           "zerolinewidth": 2
          },
          "yaxis": {
           "automargin": true,
           "gridcolor": "white",
           "linecolor": "white",
           "ticks": "",
           "title": {
            "standoff": 15
           },
           "zerolinecolor": "white",
           "zerolinewidth": 2
          }
         }
        },
        "title": {
         "text": "2014 World Power Consumption"
        }
       }
      },
      "image/png": "[encoded data removed]",
      "text/html": [
       "<div>\n",
       "        \n",
       "        \n",
       "            <div id=\"bff44eaf-6896-4510-ab0d-2f9a238d6c94\" class=\"plotly-graph-div\" style=\"height:525px; width:100%;\"></div>\n",
       "            <script type=\"text/javascript\">\n",
       "                require([\"plotly\"], function(Plotly) {\n",
       "                    window.PLOTLYENV=window.PLOTLYENV || {};\n",
       "                    \n",
       "                if (document.getElementById(\"bff44eaf-6896-4510-ab0d-2f9a238d6c94\")) {\n",
       "                    Plotly.newPlot(\n",
       "                        'bff44eaf-6896-4510-ab0d-2f9a238d6c94',\n",
       "                        [{\"colorbar\": {\"title\": {\"text\": \"Power Consumptions (KWH)\"}}, \"locationmode\": \"country names\", \"locations\": [\"China\", \"United States\", \"European\", \"Russia\", \"Japan\", \"India\", \"Germany\", \"Canada\", \"Brazil\", \"Korea,\", \"France\", \"United Kingdom\", \"Italy\", \"Taiwan\", \"Spain\", \"Mexico\", \"Saudi\", \"Australia\", \"South\", \"Turkey\", \"Iran\", \"Indonesia\", \"Ukraine\", \"Thailand\", \"Poland\", \"Egypt\", \"Sweden\", \"Norway\", \"Malaysia\", \"Argentina\", \"Netherlands\", \"Vietnam\", \"Venezuela\", \"United Arab Emirates\", \"Finland\", \"Belgium\", \"Kazakhstan\", \"Pakistan\", \"Philippines\", \"Austria\", \"Chile\", \"Czechia\", \"Israel\", \"Switzerland\", \"Greece\", \"Iraq\", \"Romania\", \"Kuwait\", \"Colombia\", \"Singapore\", \"Portugal\", \"Uzbekistan\", \"Hong\", \"Algeria\", \"Bangladesh\", \"New\", \"Bulgaria\", \"Belarus\", \"Peru\", \"Denmark\", \"Qatar\", \"Slovakia\", \"Libya\", \"Serbia\", \"Morocco\", \"Syria\", \"Nigeria\", \"Ireland\", \"Hungary\", \"Oman\", \"Ecuador\", \"Puerto\", \"Azerbaijan\", \"Croatia\", \"Iceland\", \"Cuba\", \"Korea,\", \"Dominican\", \"Jordan\", \"Tajikistan\", \"Tunisia\", \"Slovenia\", \"Lebanon\", \"Bosnia\", \"Turkmenistan\", \"Bahrain\", \"Mozambique\", \"Ghana\", \"Sri\", \"Kyrgyzstan\", \"Lithuania\", \"Uruguay\", \"Costa\", \"Guatemala\", \"Georgia\", \"Trinidad\", \"Zambia\", \"Paraguay\", \"Albania\", \"Burma\", \"Estonia\", \"Congo,\", \"Panama\", \"Latvia\", \"Macedonia\", \"Zimbabwe\", \"Kenya\", \"Bolivia\", \"Luxembourg\", \"Sudan\", \"El\", \"Cameroon\", \"West\", \"Ethiopia\", \"Armenia\", \"Honduras\", \"Angola\", \"Cote\", \"Tanzania\", \"Nicaragua\", \"Moldova\", \"Cyprus\", \"Macau\", \"Namibia\", \"Mongolia\", \"Afghanistan\", \"Yemen\", \"Brunei\", \"Cambodia\", \"Montenegro\", \"Nepal\", \"Botswana\", \"Papua\", \"Jamaica\", \"Kosovo\", \"Laos\", \"Uganda\", \"New\", \"Mauritius\", \"Senegal\", \"Bhutan\", \"Malawi\", \"Madagascar\", \"Bahamas,\", \"Gabon\", \"Suriname\", \"Guam\", \"Liechtenstein\", \"Swaziland\", \"Burkina\", \"Togo\", \"Curacao\", \"Mauritania\", \"Barbados\", \"Niger\", \"Aruba\", \"Benin\", \"Guinea\", \"Mali\", \"Fiji\", \"Congo,\", \"Virgin\", \"Lesotho\", \"South\", \"Bermuda\", \"French\", \"Jersey\", \"Belize\", \"Andorra\", \"Guyana\", \"Cayman\", \"Haiti\", \"Rwanda\", \"Saint\", \"Djibouti\", \"Seychelles\", \"Somalia\", \"Antigua\", \"Greenland\", \"Cabo\", \"Eritrea\", \"Burundi\", \"Liberia\", \"Maldives\", \"Faroe\", \"Gambia,\", \"Chad\", \"Micronesia,\", \"Grenada\", \"Central\", \"Turks\", \"Gibraltar\", \"American\", \"Sierra\", \"Saint\", \"Saint\", \"Timor-Leste\", \"Equatorial\", \"Samoa\", \"Dominica\", \"Western\", \"Solomon\", \"Sao\", \"British\", \"Vanuatu\", \"Guinea-Bissau\", \"Tonga\", \"Saint\", \"Comoros\", \"Cook\", \"Kiribati\", \"Montserrat\", \"Nauru\", \"Falkland\", \"Saint\", \"Niue\", \"Gaza\", \"Malta\", \"Northern\"], \"text\": [\"China 5,523,000,000,000\", \"United 3,832,000,000,000\", \"European 2,771,000,000,000\", \"Russia 1,065,000,000,000\", \"Japan 921,000,000,000\", \"India 864,700,000,000\", \"Germany 540,100,000,000\", \"Canada 511,000,000,000\", \"Brazil 483,500,000,000\", \"Korea, 482,400,000,000\", \"France 451,100,000,000\", \"United 319,100,000,000\", \"Italy 303,100,000,000\", \"Taiwan 249,500,000,000\", \"Spain 243,100,000,000\", \"Mexico 234,000,000,000\", \"Saudi 231,600,000,000\", \"Australia 222,600,000,000\", \"South 211,600,000,000\", \"Turkey 197,000,000,000\", \"Iran 195,300,000,000\", \"Indonesia 167,500,000,000\", \"Ukraine 159,800,000,000\", \"Thailand 155,900,000,000\", \"Poland 139,000,000,000\", \"Egypt 135,600,000,000\", \"Sweden 130,500,000,000\", \"Norway 126,400,000,000\", \"Malaysia 118,500,000,000\", \"Argentina 117,100,000,000\", \"Netherlands 116,800,000,000\", \"Vietnam 108,300,000,000\", \"Venezuela 97,690,000,000\", \"United 93,280,000,000\", \"Finland 82,040,000,000\", \"Belgium 81,890,000,000\", \"Kazakhstan 80,290,000,000\", \"Pakistan 78,890,000,000\", \"Philippines 75,270,000,000\", \"Austria 69,750,000,000\", \"Chile 63,390,000,000\", \"Czechia 60,550,000,000\", \"Israel 59,830,000,000\", \"Switzerland 58,010,000,000\", \"Greece 57,730,000,000\", \"Iraq 53,410,000,000\", \"Romania 50,730,000,000\", \"Kuwait 50,000,000,000\", \"Colombia 49,380,000,000\", \"Singapore 47,180,000,000\", \"Portugal 46,250,000,000\", \"Uzbekistan 45,210,000,000\", \"Hong 44,210,000,000\", \"Algeria 42,870,000,000\", \"Bangladesh 41,520,000,000\", \"New 40,300,000,000\", \"Bulgaria 37,990,000,000\", \"Belarus 37,880,000,000\", \"Peru 35,690,000,000\", \"Denmark 31,960,000,000\", \"Qatar 30,530,000,000\", \"Slovakia 28,360,000,000\", \"Libya 27,540,000,000\", \"Serbia 26,910,000,000\", \"Morocco 26,700,000,000\", \"Syria 25,700,000,000\", \"Nigeria 24,780,000,000\", \"Ireland 24,240,000,000\", \"Hungary 21,550,000,000\", \"Oman 20,360,000,000\", \"Ecuador 19,020,000,000\", \"Puerto 18,620,000,000\", \"Azerbaijan 17,790,000,000\", \"Croatia 16,970,000,000\", \"Iceland 16,940,000,000\", \"Cuba 16,200,000,000\", \"Korea, 16,000,000,000\", \"Dominican 15,140,000,000\", \"Jordan 14,560,000,000\", \"Tajikistan 14,420,000,000\", \"Tunisia 13,310,000,000\", \"Slovenia 13,020,000,000\", \"Lebanon 12,940,000,000\", \"Bosnia 12,560,000,000\", \"Turkmenistan 11,750,000,000\", \"Bahrain 11,690,000,000\", \"Mozambique 11,280,000,000\", \"Ghana 10,580,000,000\", \"Sri 10,170,000,000\", \"Kyrgyzstan 9,943,000,000\", \"Lithuania 9,664,000,000\", \"Uruguay 9,559,000,000\", \"Costa 8,987,000,000\", \"Guatemala 8,915,000,000\", \"Georgia 8,468,000,000\", \"Trinidad 8,365,000,000\", \"Zambia 8,327,000,000\", \"Paraguay 8,125,000,000\", \"Albania 7,793,000,000\", \"Burma 7,765,000,000\", \"Estonia 7,417,000,000\", \"Congo, 7,292,000,000\", \"Panama 7,144,000,000\", \"Latvia 7,141,000,000\", \"Macedonia 6,960,000,000\", \"Zimbabwe 6,831,000,000\", \"Kenya 6,627,000,000\", \"Bolivia 6,456,000,000\", \"Luxembourg 6,108,000,000\", \"Sudan 5,665,000,000\", \"El 5,665,000,000\", \"Cameroon 5,535,000,000\", \"West 5,312,000,000\", \"Ethiopia 5,227,000,000\", \"Armenia 5,043,000,000\", \"Honduras 5,036,000,000\", \"Angola 4,842,000,000\", \"Cote 4,731,000,000\", \"Tanzania 4,545,000,000\", \"Nicaragua 4,412,000,000\", \"Moldova 4,305,000,000\", \"Cyprus 4,296,000,000\", \"Macau 4,291,000,000\", \"Namibia 4,238,000,000\", \"Mongolia 4,204,000,000\", \"Afghanistan 3,893,000,000\", \"Yemen 3,838,000,000\", \"Brunei 3,766,000,000\", \"Cambodia 3,553,000,000\", \"Montenegro 3,465,000,000\", \"Nepal 3,239,000,000\", \"Botswana 3,213,000,000\", \"Papua 3,116,000,000\", \"Jamaica 3,008,000,000\", \"Kosovo 2,887,000,000\", \"Laos 2,874,000,000\", \"Uganda 2,821,000,000\", \"New 2,716,000,000\", \"Mauritius 2,658,000,000\", \"Senegal 2,586,000,000\", \"Bhutan 2,085,000,000\", \"Malawi 2,027,000,000\", \"Madagascar 1,883,000,000\", \"Bahamas, 1,716,000,000\", \"Gabon 1,680,000,000\", \"Suriname 1,572,000,000\", \"Guam 1,566,000,000\", \"Liechtenstein 1,360,000,000\", \"Swaziland 1,295,000,000\", \"Burkina 985,500,000\", \"Togo 976,000,000\", \"Curacao 968,000,000\", \"Mauritania 962,600,000\", \"Barbados 938,000,000\", \"Niger 930,200,000\", \"Aruba 920,700,000\", \"Benin 911,000,000\", \"Guinea 903,000,000\", \"Mali 882,600,000\", \"Fiji 777,600,000\", \"Congo, 740,000,000\", \"Virgin 723,500,000\", \"Lesotho 707,000,000\", \"South 694,100,000\", \"Bermuda 664,200,000\", \"French 652,900,000\", \"Jersey 630,100,000\", \"Belize 605,000,000\", \"Andorra 562,400,000\", \"Guyana 558,000,000\", \"Cayman 545,900,000\", \"Haiti 452,000,000\", \"Rwanda 365,500,000\", \"Saint 336,400,000\", \"Djibouti 311,600,000\", \"Seychelles 293,900,000\", \"Somalia 293,000,000\", \"Antigua 293,000,000\", \"Greenland 292,000,000\", \"Cabo 285,500,000\", \"Eritrea 284,000,000\", \"Burundi 282,900,000\", \"Liberia 276,900,000\", \"Maldives 267,100,000\", \"Faroe 261,300,000\", \"Gambia, 218,600,000\", \"Chad 190,700,000\", \"Micronesia, 178,600,000\", \"Grenada 178,000,000\", \"Central 168,300,000\", \"Turks 167,400,000\", \"Gibraltar 160,000,000\", \"American 146,000,000\", \"Sierra 134,900,000\", \"Saint 130,200,000\", \"Saint 127,400,000\", \"Timor-Leste 125,300,000\", \"Equatorial 93,000,000\", \"Samoa 90,400,000\", \"Dominica 89,750,000\", \"Western 83,700,000\", \"Solomon 79,050,000\", \"Sao 60,450,000\", \"British 51,150,000\", \"Vanuatu 49,290,000\", \"Guinea-Bissau 46,500,000\", \"Tonga 44,640,000\", \"Saint 39,990,000\", \"Comoros 39,990,000\", \"Cook 28,950,000\", \"Kiribati 24,180,000\", \"Montserrat 23,250,000\", \"Nauru 23,250,000\", \"Falkland 11,160,000\", \"Saint 7,440,000\", \"Niue 2,790,000\", \"Gaza 202,000\", \"Malta 174,700\", \"Northern 48,300\"], \"type\": \"choropleth\", \"z\": [5523000000000.0, 3832000000000.0, 2771000000000.0, 1065000000000.0, 921000000000.0, 864700000000.0, 540100000000.0, 511000000000.0, 483500000000.0, 482400000000.0, 451100000000.0, 319100000000.0, 303100000000.0, 249500000000.0, 243100000000.0, 234000000000.0, 231600000000.0, 222600000000.0, 211600000000.0, 197000000000.0, 195300000000.0, 167500000000.0, 159800000000.0, 155900000000.0, 139000000000.0, 135600000000.0, 130500000000.0, 126400000000.0, 118500000000.0, 117100000000.0, 116800000000.0, 108300000000.0, 97690000000.0, 93280000000.0, 82040000000.0, 81890000000.0, 80290000000.0, 78890000000.0, 75270000000.0, 69750000000.0, 63390000000.0, 60550000000.0, 59830000000.0, 58010000000.0, 57730000000.0, 53410000000.0, 50730000000.0, 50000000000.0, 49380000000.0, 47180000000.0, 46250000000.0, 45210000000.0, 44210000000.0, 42870000000.0, 41520000000.0, 40300000000.0, 37990000000.0, 37880000000.0, 35690000000.0, 31960000000.0, 30530000000.0, 28360000000.0, 27540000000.0, 26910000000.0, 26700000000.0, 25700000000.0, 24780000000.0, 24240000000.0, 21550000000.0, 20360000000.0, 19020000000.0, 18620000000.0, 17790000000.0, 16970000000.0, 16940000000.0, 16200000000.0, 16000000000.0, 15140000000.0, 14560000000.0, 14420000000.0, 13310000000.0, 13020000000.0, 12940000000.0, 12560000000.0, 11750000000.0, 11690000000.0, 11280000000.0, 10580000000.0, 10170000000.0, 9943000000.0, 9664000000.0, 9559000000.0, 8987000000.0, 8915000000.0, 8468000000.0, 8365000000.0, 8327000000.0, 8125000000.0, 7793000000.0, 7765000000.0, 7417000000.0, 7292000000.0, 7144000000.0, 7141000000.0, 6960000000.0, 6831000000.0, 6627000000.0, 6456000000.0, 6108000000.0, 5665000000.0, 5665000000.0, 5535000000.0, 5312000000.0, 5227000000.0, 5043000000.0, 5036000000.0, 4842000000.0, 4731000000.0, 4545000000.0, 4412000000.0, 4305000000.0, 4296000000.0, 4291000000.0, 4238000000.0, 4204000000.0, 3893000000.0, 3838000000.0, 3766000000.0, 3553000000.0, 3465000000.0, 3239000000.0, 3213000000.0, 3116000000.0, 3008000000.0, 2887000000.0, 2874000000.0, 2821000000.0, 2716000000.0, 2658000000.0, 2586000000.0, 2085000000.0, 2027000000.0, 1883000000.0, 1716000000.0, 1680000000.0, 1572000000.0, 1566000000.0, 1360000000.0, 1295000000.0, 985500000.0, 976000000.0, 968000000.0, 962600000.0, 938000000.0, 930200000.0, 920700000.0, 911000000.0, 903000000.0, 882600000.0, 777600000.0, 740000000.0, 723500000.0, 707000000.0, 694100000.0, 664200000.0, 652900000.0, 630100000.0, 605000000.0, 562400000.0, 558000000.0, 545900000.0, 452000000.0, 365500000.0, 336400000.0, 311600000.0, 293900000.0, 293000000.0, 293000000.0, 292000000.0, 285500000.0, 284000000.0, 282900000.0, 276900000.0, 267100000.0, 261300000.0, 218600000.0, 190700000.0, 178600000.0, 178000000.0, 168300000.0, 167400000.0, 160000000.0, 146000000.0, 134900000.0, 130200000.0, 127400000.0, 125300000.0, 93000000.0, 90400000.0, 89750000.0, 83700000.0, 79050000.0, 60450000.0, 51150000.0, 49290000.0, 46500000.0, 44640000.0, 39990000.0, 39990000.0, 28950000.0, 24180000.0, 23250000.0, 23250000.0, 11160000.0, 7440000.0, 2790000.0, 202000.0, 174700.0, 48300.0]}],\n",
       "                        {\"geo\": {\"projection\": {\"type\": \"mercator\"}, \"showframe\": false}, \"template\": {\"data\": {\"bar\": [{\"error_x\": {\"color\": \"#2a3f5f\"}, \"error_y\": {\"color\": \"#2a3f5f\"}, \"marker\": {\"line\": {\"color\": \"#E5ECF6\", \"width\": 0.5}}, \"type\": \"bar\"}], \"barpolar\": [{\"marker\": {\"line\": {\"color\": \"#E5ECF6\", \"width\": 0.5}}, \"type\": \"barpolar\"}], \"carpet\": [{\"aaxis\": {\"endlinecolor\": \"#2a3f5f\", \"gridcolor\": \"white\", \"linecolor\": \"white\", \"minorgridcolor\": \"white\", \"startlinecolor\": \"#2a3f5f\"}, \"baxis\": {\"endlinecolor\": \"#2a3f5f\", \"gridcolor\": \"white\", \"linecolor\": \"white\", \"minorgridcolor\": \"white\", \"startlinecolor\": \"#2a3f5f\"}, \"type\": \"carpet\"}], \"choropleth\": [{\"colorbar\": {\"outlinewidth\": 0, \"ticks\": \"\"}, \"type\": \"choropleth\"}], \"contour\": [{\"colorbar\": {\"outlinewidth\": 0, \"ticks\": \"\"}, \"colorscale\": [[0.0, \"#0d0887\"], [0.1111111111111111, \"#46039f\"], [0.2222222222222222, \"#7201a8\"], [0.3333333333333333, \"#9c179e\"], [0.4444444444444444, \"#bd3786\"], [0.5555555555555556, \"#d8576b\"], [0.6666666666666666, \"#ed7953\"], [0.7777777777777778, \"#fb9f3a\"], [0.8888888888888888, \"#fdca26\"], [1.0, \"#f0f921\"]], \"type\": \"contour\"}], \"contourcarpet\": [{\"colorbar\": {\"outlinewidth\": 0, \"ticks\": \"\"}, \"type\": \"contourcarpet\"}], \"heatmap\": [{\"colorbar\": {\"outlinewidth\": 0, \"ticks\": \"\"}, \"colorscale\": [[0.0, \"#0d0887\"], [0.1111111111111111, \"#46039f\"], [0.2222222222222222, \"#7201a8\"], [0.3333333333333333, \"#9c179e\"], [0.4444444444444444, \"#bd3786\"], [0.5555555555555556, \"#d8576b\"], [0.6666666666666666, \"#ed7953\"], [0.7777777777777778, \"#fb9f3a\"], [0.8888888888888888, \"#fdca26\"], [1.0, \"#f0f921\"]], \"type\": \"heatmap\"}], \"heatmapgl\": [{\"colorbar\": {\"outlinewidth\": 0, \"ticks\": \"\"}, \"colorscale\": [[0.0, \"#0d0887\"], [0.1111111111111111, \"#46039f\"], [0.2222222222222222, \"#7201a8\"], [0.3333333333333333, \"#9c179e\"], [0.4444444444444444, \"#bd3786\"], [0.5555555555555556, \"#d8576b\"], [0.6666666666666666, \"#ed7953\"], [0.7777777777777778, \"#fb9f3a\"], [0.8888888888888888, \"#fdca26\"], [1.0, \"#f0f921\"]], \"type\": \"heatmapgl\"}], \"histogram\": [{\"marker\": {\"colorbar\": {\"outlinewidth\": 0, \"ticks\": \"\"}}, \"type\": \"histogram\"}], \"histogram2d\": [{\"colorbar\": {\"outlinewidth\": 0, \"ticks\": \"\"}, \"colorscale\": [[0.0, \"#0d0887\"], [0.1111111111111111, \"#46039f\"], [0.2222222222222222, \"#7201a8\"], [0.3333333333333333, \"#9c179e\"], [0.4444444444444444, \"#bd3786\"], [0.5555555555555556, \"#d8576b\"], [0.6666666666666666, \"#ed7953\"], [0.7777777777777778, \"#fb9f3a\"], [0.8888888888888888, \"#fdca26\"], [1.0, \"#f0f921\"]], \"type\": \"histogram2d\"}], \"histogram2dcontour\": [{\"colorbar\": {\"outlinewidth\": 0, \"ticks\": \"\"}, \"colorscale\": [[0.0, \"#0d0887\"], [0.1111111111111111, \"#46039f\"], [0.2222222222222222, \"#7201a8\"], [0.3333333333333333, \"#9c179e\"], [0.4444444444444444, \"#bd3786\"], [0.5555555555555556, \"#d8576b\"], [0.6666666666666666, \"#ed7953\"], [0.7777777777777778, \"#fb9f3a\"], [0.8888888888888888, \"#fdca26\"], [1.0, \"#f0f921\"]], \"type\": \"histogram2dcontour\"}], \"mesh3d\": [{\"colorbar\": {\"outlinewidth\": 0, \"ticks\": \"\"}, \"type\": \"mesh3d\"}], \"parcoords\": [{\"line\": {\"colorbar\": {\"outlinewidth\": 0, \"ticks\": \"\"}}, \"type\": \"parcoords\"}], \"pie\": [{\"automargin\": true, \"type\": \"pie\"}], \"scatter\": [{\"marker\": {\"colorbar\": {\"outlinewidth\": 0, \"ticks\": \"\"}}, \"type\": \"scatter\"}], \"scatter3d\": [{\"line\": {\"colorbar\": {\"outlinewidth\": 0, \"ticks\": \"\"}}, \"marker\": {\"colorbar\": {\"outlinewidth\": 0, \"ticks\": \"\"}}, \"type\": \"scatter3d\"}], \"scattercarpet\": [{\"marker\": {\"colorbar\": {\"outlinewidth\": 0, \"ticks\": \"\"}}, \"type\": \"scattercarpet\"}], \"scattergeo\": [{\"marker\": {\"colorbar\": {\"outlinewidth\": 0, \"ticks\": \"\"}}, \"type\": \"scattergeo\"}], \"scattergl\": [{\"marker\": {\"colorbar\": {\"outlinewidth\": 0, \"ticks\": \"\"}}, \"type\": \"scattergl\"}], \"scattermapbox\": [{\"marker\": {\"colorbar\": {\"outlinewidth\": 0, \"ticks\": \"\"}}, \"type\": \"scattermapbox\"}], \"scatterpolar\": [{\"marker\": {\"colorbar\": {\"outlinewidth\": 0, \"ticks\": \"\"}}, \"type\": \"scatterpolar\"}], \"scatterpolargl\": [{\"marker\": {\"colorbar\": {\"outlinewidth\": 0, \"ticks\": \"\"}}, \"type\": \"scatterpolargl\"}], \"scatterternary\": [{\"marker\": {\"colorbar\": {\"outlinewidth\": 0, \"ticks\": \"\"}}, \"type\": \"scatterternary\"}], \"surface\": [{\"colorbar\": {\"outlinewidth\": 0, \"ticks\": \"\"}, \"colorscale\": [[0.0, \"#0d0887\"], [0.1111111111111111, \"#46039f\"], [0.2222222222222222, \"#7201a8\"], [0.3333333333333333, \"#9c179e\"], [0.4444444444444444, \"#bd3786\"], [0.5555555555555556, \"#d8576b\"], [0.6666666666666666, \"#ed7953\"], [0.7777777777777778, \"#fb9f3a\"], [0.8888888888888888, \"#fdca26\"], [1.0, \"#f0f921\"]], \"type\": \"surface\"}], \"table\": [{\"cells\": {\"fill\": {\"color\": \"#EBF0F8\"}, \"line\": {\"color\": \"white\"}}, \"header\": {\"fill\": {\"color\": \"#C8D4E3\"}, \"line\": {\"color\": \"white\"}}, \"type\": \"table\"}]}, \"layout\": {\"annotationdefaults\": {\"arrowcolor\": \"#2a3f5f\", \"arrowhead\": 0, \"arrowwidth\": 1}, \"coloraxis\": {\"colorbar\": {\"outlinewidth\": 0, \"ticks\": \"\"}}, \"colorscale\": {\"diverging\": [[0, \"#8e0152\"], [0.1, \"#c51b7d\"], [0.2, \"#de77ae\"], [0.3, \"#f1b6da\"], [0.4, \"#fde0ef\"], [0.5, \"#f7f7f7\"], [0.6, \"#e6f5d0\"], [0.7, \"#b8e186\"], [0.8, \"#7fbc41\"], [0.9, \"#4d9221\"], [1, \"#276419\"]], \"sequential\": [[0.0, \"#0d0887\"], [0.1111111111111111, \"#46039f\"], [0.2222222222222222, \"#7201a8\"], [0.3333333333333333, \"#9c179e\"], [0.4444444444444444, \"#bd3786\"], [0.5555555555555556, \"#d8576b\"], [0.6666666666666666, \"#ed7953\"], [0.7777777777777778, \"#fb9f3a\"], [0.8888888888888888, \"#fdca26\"], [1.0, \"#f0f921\"]], \"sequentialminus\": [[0.0, \"#0d0887\"], [0.1111111111111111, \"#46039f\"], [0.2222222222222222, \"#7201a8\"], [0.3333333333333333, \"#9c179e\"], [0.4444444444444444, \"#bd3786\"], [0.5555555555555556, \"#d8576b\"], [0.6666666666666666, \"#ed7953\"], [0.7777777777777778, \"#fb9f3a\"], [0.8888888888888888, \"#fdca26\"], [1.0, \"#f0f921\"]]}, \"colorway\": [\"#636efa\", \"#EF553B\", \"#00cc96\", \"#ab63fa\", \"#FFA15A\", \"#19d3f3\", \"#FF6692\", \"#B6E880\", \"#FF97FF\", \"#FECB52\"], \"font\": {\"color\": \"#2a3f5f\"}, \"geo\": {\"bgcolor\": \"white\", \"lakecolor\": \"white\", \"landcolor\": \"#E5ECF6\", \"showlakes\": true, \"showland\": true, \"subunitcolor\": \"white\"}, \"hoverlabel\": {\"align\": \"left\"}, \"hovermode\": \"closest\", \"mapbox\": {\"style\": \"light\"}, \"paper_bgcolor\": \"white\", \"plot_bgcolor\": \"#E5ECF6\", \"polar\": {\"angularaxis\": {\"gridcolor\": \"white\", \"linecolor\": \"white\", \"ticks\": \"\"}, \"bgcolor\": \"#E5ECF6\", \"radialaxis\": {\"gridcolor\": \"white\", \"linecolor\": \"white\", \"ticks\": \"\"}}, \"scene\": {\"xaxis\": {\"backgroundcolor\": \"#E5ECF6\", \"gridcolor\": \"white\", \"gridwidth\": 2, \"linecolor\": \"white\", \"showbackground\": true, \"ticks\": \"\", \"zerolinecolor\": \"white\"}, \"yaxis\": {\"backgroundcolor\": \"#E5ECF6\", \"gridcolor\": \"white\", \"gridwidth\": 2, \"linecolor\": \"white\", \"showbackground\": true, \"ticks\": \"\", \"zerolinecolor\": \"white\"}, \"zaxis\": {\"backgroundcolor\": \"#E5ECF6\", \"gridcolor\": \"white\", \"gridwidth\": 2, \"linecolor\": \"white\", \"showbackground\": true, \"ticks\": \"\", \"zerolinecolor\": \"white\"}}, \"shapedefaults\": {\"line\": {\"color\": \"#2a3f5f\"}}, \"ternary\": {\"aaxis\": {\"gridcolor\": \"white\", \"linecolor\": \"white\", \"ticks\": \"\"}, \"baxis\": {\"gridcolor\": \"white\", \"linecolor\": \"white\", \"ticks\": \"\"}, \"bgcolor\": \"#E5ECF6\", \"caxis\": {\"gridcolor\": \"white\", \"linecolor\": \"white\", \"ticks\": \"\"}}, \"title\": {\"x\": 0.05}, \"xaxis\": {\"automargin\": true, \"gridcolor\": \"white\", \"linecolor\": \"white\", \"ticks\": \"\", \"title\": {\"standoff\": 15}, \"zerolinecolor\": \"white\", \"zerolinewidth\": 2}, \"yaxis\": {\"automargin\": true, \"gridcolor\": \"white\", \"linecolor\": \"white\", \"ticks\": \"\", \"title\": {\"standoff\": 15}, \"zerolinecolor\": \"white\", \"zerolinewidth\": 2}}}, \"title\": {\"text\": \"2014 World Power Consumption\"}},\n",
       "                        {\"responsive\": true}\n",
       "                    ).then(function(){\n",
       "                            \n",
       "var gd = document.getElementById('bff44eaf-6896-4510-ab0d-2f9a238d6c94');\n",
       "var x = new MutationObserver(function (mutations, observer) {{\n",
       "        var display = window.getComputedStyle(gd).display;\n",
       "        if (!display || display === 'none') {{\n",
       "            console.log([gd, 'removed!']);\n",
       "            Plotly.purge(gd);\n",
       "            observer.disconnect();\n",
       "        }}\n",
       "}});\n",
       "\n",
       "// Listen for the removal of the full notebook cells\n",
       "var notebookContainer = gd.closest('#notebook-container');\n",
       "if (notebookContainer) {{\n",
       "    x.observe(notebookContainer, {childList: true});\n",
       "}}\n",
       "\n",
       "// Listen for the clearing of the current output cell\n",
       "var outputEl = gd.closest('.output');\n",
       "if (outputEl) {{\n",
       "    x.observe(outputEl, {childList: true});\n",
       "}}\n",
       "\n",
       "                        })\n",
       "                };\n",
       "                });\n",
       "            </script>\n",
       "        </div>"
      ]
     },
     "metadata": {},
     "output_type": "display_data"
    }
   ],
   "source": [
    "choromap = go.Figure(data = [data],layout = layout)\n",
    "iplot(choromap,validate=False)"
   ]
  },
  {
   "cell_type": "markdown",
   "metadata": {},
   "source": [
    "## USA Choropleth\n",
    "\n",
    "** Import the 2012_Election_Data csv file using pandas. **"
   ]
  },
  {
   "cell_type": "code",
   "execution_count": 17,
   "metadata": {},
   "outputs": [
    {
     "data": {
      "text/html": [
       "<div>\n",
       "<style scoped>\n",
       "    .dataframe tbody tr th:only-of-type {\n",
       "        vertical-align: middle;\n",
       "    }\n",
       "\n",
       "    .dataframe tbody tr th {\n",
       "        vertical-align: top;\n",
       "    }\n",
       "\n",
       "    .dataframe thead th {\n",
       "        text-align: right;\n",
       "    }\n",
       "</style>\n",
       "<table border=\"1\" class=\"dataframe\">\n",
       "  <thead>\n",
       "    <tr style=\"text-align: right;\">\n",
       "      <th></th>\n",
       "      <th>Year</th>\n",
       "      <th>ICPSR State Code</th>\n",
       "      <th>Alphanumeric State Code</th>\n",
       "      <th>State</th>\n",
       "      <th>VEP Total Ballots Counted</th>\n",
       "      <th>VEP Highest Office</th>\n",
       "      <th>VAP Highest Office</th>\n",
       "      <th>Total Ballots Counted</th>\n",
       "      <th>Highest Office</th>\n",
       "      <th>Voting-Eligible Population (VEP)</th>\n",
       "      <th>Voting-Age Population (VAP)</th>\n",
       "      <th>% Non-citizen</th>\n",
       "      <th>Prison</th>\n",
       "      <th>Probation</th>\n",
       "      <th>Parole</th>\n",
       "      <th>Total Ineligible Felon</th>\n",
       "      <th>State Abv</th>\n",
       "    </tr>\n",
       "  </thead>\n",
       "  <tbody>\n",
       "    <tr>\n",
       "      <th>0</th>\n",
       "      <td>2012</td>\n",
       "      <td>41</td>\n",
       "      <td>1</td>\n",
       "      <td>Alabama</td>\n",
       "      <td>NaN</td>\n",
       "      <td>58.6%</td>\n",
       "      <td>56.0%</td>\n",
       "      <td>NaN</td>\n",
       "      <td>2,074,338</td>\n",
       "      <td>3,539,217</td>\n",
       "      <td>3707440.0</td>\n",
       "      <td>2.6%</td>\n",
       "      <td>32,232</td>\n",
       "      <td>57,993</td>\n",
       "      <td>8,616</td>\n",
       "      <td>71,584</td>\n",
       "      <td>AL</td>\n",
       "    </tr>\n",
       "    <tr>\n",
       "      <th>1</th>\n",
       "      <td>2012</td>\n",
       "      <td>81</td>\n",
       "      <td>2</td>\n",
       "      <td>Alaska</td>\n",
       "      <td>58.9%</td>\n",
       "      <td>58.7%</td>\n",
       "      <td>55.3%</td>\n",
       "      <td>301,694</td>\n",
       "      <td>300,495</td>\n",
       "      <td>511,792</td>\n",
       "      <td>543763.0</td>\n",
       "      <td>3.8%</td>\n",
       "      <td>5,633</td>\n",
       "      <td>7,173</td>\n",
       "      <td>1,882</td>\n",
       "      <td>11,317</td>\n",
       "      <td>AK</td>\n",
       "    </tr>\n",
       "    <tr>\n",
       "      <th>2</th>\n",
       "      <td>2012</td>\n",
       "      <td>61</td>\n",
       "      <td>3</td>\n",
       "      <td>Arizona</td>\n",
       "      <td>53.0%</td>\n",
       "      <td>52.6%</td>\n",
       "      <td>46.5%</td>\n",
       "      <td>2,323,579</td>\n",
       "      <td>2,306,559</td>\n",
       "      <td>4,387,900</td>\n",
       "      <td>4959270.0</td>\n",
       "      <td>9.9%</td>\n",
       "      <td>35,188</td>\n",
       "      <td>72,452</td>\n",
       "      <td>7,460</td>\n",
       "      <td>81,048</td>\n",
       "      <td>AZ</td>\n",
       "    </tr>\n",
       "    <tr>\n",
       "      <th>3</th>\n",
       "      <td>2012</td>\n",
       "      <td>42</td>\n",
       "      <td>4</td>\n",
       "      <td>Arkansas</td>\n",
       "      <td>51.1%</td>\n",
       "      <td>50.7%</td>\n",
       "      <td>47.7%</td>\n",
       "      <td>1,078,548</td>\n",
       "      <td>1,069,468</td>\n",
       "      <td>2,109,847</td>\n",
       "      <td>2242740.0</td>\n",
       "      <td>3.5%</td>\n",
       "      <td>14,471</td>\n",
       "      <td>30,122</td>\n",
       "      <td>23,372</td>\n",
       "      <td>53,808</td>\n",
       "      <td>AR</td>\n",
       "    </tr>\n",
       "    <tr>\n",
       "      <th>4</th>\n",
       "      <td>2012</td>\n",
       "      <td>71</td>\n",
       "      <td>5</td>\n",
       "      <td>California</td>\n",
       "      <td>55.7%</td>\n",
       "      <td>55.1%</td>\n",
       "      <td>45.1%</td>\n",
       "      <td>13,202,158</td>\n",
       "      <td>13,038,547</td>\n",
       "      <td>23,681,837</td>\n",
       "      <td>28913129.0</td>\n",
       "      <td>17.4%</td>\n",
       "      <td>119,455</td>\n",
       "      <td>0</td>\n",
       "      <td>89,287</td>\n",
       "      <td>208,742</td>\n",
       "      <td>CA</td>\n",
       "    </tr>\n",
       "  </tbody>\n",
       "</table>\n",
       "</div>"
      ],
      "text/plain": [
       "   Year  ICPSR State Code  Alphanumeric State Code       State  \\\n",
       "0  2012                41                        1     Alabama   \n",
       "1  2012                81                        2      Alaska   \n",
       "2  2012                61                        3     Arizona   \n",
       "3  2012                42                        4    Arkansas   \n",
       "4  2012                71                        5  California   \n",
       "\n",
       "  VEP Total Ballots Counted VEP Highest Office VAP Highest Office  \\\n",
       "0                       NaN              58.6%              56.0%   \n",
       "1                     58.9%              58.7%              55.3%   \n",
       "2                     53.0%              52.6%              46.5%   \n",
       "3                     51.1%              50.7%              47.7%   \n",
       "4                     55.7%              55.1%              45.1%   \n",
       "\n",
       "  Total Ballots Counted Highest Office Voting-Eligible Population (VEP)  \\\n",
       "0                   NaN      2,074,338                        3,539,217   \n",
       "1               301,694        300,495                          511,792   \n",
       "2             2,323,579      2,306,559                        4,387,900   \n",
       "3             1,078,548      1,069,468                        2,109,847   \n",
       "4            13,202,158     13,038,547                       23,681,837   \n",
       "\n",
       "   Voting-Age Population (VAP) % Non-citizen   Prison Probation  Parole  \\\n",
       "0                    3707440.0          2.6%   32,232    57,993   8,616   \n",
       "1                     543763.0          3.8%    5,633     7,173   1,882   \n",
       "2                    4959270.0          9.9%   35,188    72,452   7,460   \n",
       "3                    2242740.0          3.5%   14,471    30,122  23,372   \n",
       "4                   28913129.0         17.4%  119,455         0  89,287   \n",
       "\n",
       "  Total Ineligible Felon State Abv  \n",
       "0                 71,584        AL  \n",
       "1                 11,317        AK  \n",
       "2                 81,048        AZ  \n",
       "3                 53,808        AR  \n",
       "4                208,742        CA  "
      ]
     },
     "execution_count": 17,
     "metadata": {},
     "output_type": "execute_result"
    }
   ],
   "source": [
    "df = pd.read_csv('2012_Election_Data')\n",
    "df.head()"
   ]
  },
  {
   "cell_type": "markdown",
   "metadata": {},
   "source": [
    "** Check the head of the DataFrame. **"
   ]
  },
  {
   "cell_type": "code",
   "execution_count": 110,
   "metadata": {
    "collapsed": false,
    "jupyter": {
     "outputs_hidden": false
    }
   },
   "outputs": [
    {
     "data": {
      "text/html": [
       "<div>\n",
       "<table border=\"1\" class=\"dataframe\">\n",
       "  <thead>\n",
       "    <tr style=\"text-align: right;\">\n",
       "      <th></th>\n",
       "      <th>Year</th>\n",
       "      <th>ICPSR State Code</th>\n",
       "      <th>Alphanumeric State Code</th>\n",
       "      <th>State</th>\n",
       "      <th>VEP Total Ballots Counted</th>\n",
       "      <th>VEP Highest Office</th>\n",
       "      <th>VAP Highest Office</th>\n",
       "      <th>Total Ballots Counted</th>\n",
       "      <th>Highest Office</th>\n",
       "      <th>Voting-Eligible Population (VEP)</th>\n",
       "      <th>Voting-Age Population (VAP)</th>\n",
       "      <th>% Non-citizen</th>\n",
       "      <th>Prison</th>\n",
       "      <th>Probation</th>\n",
       "      <th>Parole</th>\n",
       "      <th>Total Ineligible Felon</th>\n",
       "      <th>State Abv</th>\n",
       "    </tr>\n",
       "  </thead>\n",
       "  <tbody>\n",
       "    <tr>\n",
       "      <th>0</th>\n",
       "      <td>2012</td>\n",
       "      <td>41</td>\n",
       "      <td>1</td>\n",
       "      <td>Alabama</td>\n",
       "      <td>NaN</td>\n",
       "      <td>58.6%</td>\n",
       "      <td>56.0%</td>\n",
       "      <td>NaN</td>\n",
       "      <td>2,074,338</td>\n",
       "      <td>3,539,217</td>\n",
       "      <td>3707440.0</td>\n",
       "      <td>2.6%</td>\n",
       "      <td>32,232</td>\n",
       "      <td>57,993</td>\n",
       "      <td>8,616</td>\n",
       "      <td>71,584</td>\n",
       "      <td>AL</td>\n",
       "    </tr>\n",
       "    <tr>\n",
       "      <th>1</th>\n",
       "      <td>2012</td>\n",
       "      <td>81</td>\n",
       "      <td>2</td>\n",
       "      <td>Alaska</td>\n",
       "      <td>58.9%</td>\n",
       "      <td>58.7%</td>\n",
       "      <td>55.3%</td>\n",
       "      <td>301,694</td>\n",
       "      <td>300,495</td>\n",
       "      <td>511,792</td>\n",
       "      <td>543763.0</td>\n",
       "      <td>3.8%</td>\n",
       "      <td>5,633</td>\n",
       "      <td>7,173</td>\n",
       "      <td>1,882</td>\n",
       "      <td>11,317</td>\n",
       "      <td>AK</td>\n",
       "    </tr>\n",
       "    <tr>\n",
       "      <th>2</th>\n",
       "      <td>2012</td>\n",
       "      <td>61</td>\n",
       "      <td>3</td>\n",
       "      <td>Arizona</td>\n",
       "      <td>53.0%</td>\n",
       "      <td>52.6%</td>\n",
       "      <td>46.5%</td>\n",
       "      <td>2,323,579</td>\n",
       "      <td>2,306,559</td>\n",
       "      <td>4,387,900</td>\n",
       "      <td>4959270.0</td>\n",
       "      <td>9.9%</td>\n",
       "      <td>35,188</td>\n",
       "      <td>72,452</td>\n",
       "      <td>7,460</td>\n",
       "      <td>81,048</td>\n",
       "      <td>AZ</td>\n",
       "    </tr>\n",
       "    <tr>\n",
       "      <th>3</th>\n",
       "      <td>2012</td>\n",
       "      <td>42</td>\n",
       "      <td>4</td>\n",
       "      <td>Arkansas</td>\n",
       "      <td>51.1%</td>\n",
       "      <td>50.7%</td>\n",
       "      <td>47.7%</td>\n",
       "      <td>1,078,548</td>\n",
       "      <td>1,069,468</td>\n",
       "      <td>2,109,847</td>\n",
       "      <td>2242740.0</td>\n",
       "      <td>3.5%</td>\n",
       "      <td>14,471</td>\n",
       "      <td>30,122</td>\n",
       "      <td>23,372</td>\n",
       "      <td>53,808</td>\n",
       "      <td>AR</td>\n",
       "    </tr>\n",
       "    <tr>\n",
       "      <th>4</th>\n",
       "      <td>2012</td>\n",
       "      <td>71</td>\n",
       "      <td>5</td>\n",
       "      <td>California</td>\n",
       "      <td>55.7%</td>\n",
       "      <td>55.1%</td>\n",
       "      <td>45.1%</td>\n",
       "      <td>13,202,158</td>\n",
       "      <td>13,038,547</td>\n",
       "      <td>23,681,837</td>\n",
       "      <td>28913129.0</td>\n",
       "      <td>17.4%</td>\n",
       "      <td>119,455</td>\n",
       "      <td>0</td>\n",
       "      <td>89,287</td>\n",
       "      <td>208,742</td>\n",
       "      <td>CA</td>\n",
       "    </tr>\n",
       "  </tbody>\n",
       "</table>\n",
       "</div>"
      ],
      "text/plain": [
       "   Year  ICPSR State Code  Alphanumeric State Code       State  \\\n",
       "0  2012                41                        1     Alabama   \n",
       "1  2012                81                        2      Alaska   \n",
       "2  2012                61                        3     Arizona   \n",
       "3  2012                42                        4    Arkansas   \n",
       "4  2012                71                        5  California   \n",
       "\n",
       "  VEP Total Ballots Counted VEP Highest Office VAP Highest Office  \\\n",
       "0                       NaN              58.6%              56.0%   \n",
       "1                     58.9%              58.7%              55.3%   \n",
       "2                     53.0%              52.6%              46.5%   \n",
       "3                     51.1%              50.7%              47.7%   \n",
       "4                     55.7%              55.1%              45.1%   \n",
       "\n",
       "  Total Ballots Counted Highest Office Voting-Eligible Population (VEP)  \\\n",
       "0                   NaN      2,074,338                        3,539,217   \n",
       "1               301,694        300,495                          511,792   \n",
       "2             2,323,579      2,306,559                        4,387,900   \n",
       "3             1,078,548      1,069,468                        2,109,847   \n",
       "4            13,202,158     13,038,547                       23,681,837   \n",
       "\n",
       "   Voting-Age Population (VAP) % Non-citizen   Prison Probation  Parole  \\\n",
       "0                    3707440.0          2.6%   32,232    57,993   8,616   \n",
       "1                     543763.0          3.8%    5,633     7,173   1,882   \n",
       "2                    4959270.0          9.9%   35,188    72,452   7,460   \n",
       "3                    2242740.0          3.5%   14,471    30,122  23,372   \n",
       "4                   28913129.0         17.4%  119,455         0  89,287   \n",
       "\n",
       "  Total Ineligible Felon State Abv  \n",
       "0                 71,584        AL  \n",
       "1                 11,317        AK  \n",
       "2                 81,048        AZ  \n",
       "3                 53,808        AR  \n",
       "4                208,742        CA  "
      ]
     },
     "execution_count": 110,
     "metadata": {},
     "output_type": "execute_result"
    }
   ],
   "source": []
  },
  {
   "cell_type": "markdown",
   "metadata": {},
   "source": [
    "** Now create a plot that displays the Voting-Age Population (VAP) per state. If you later want to play around with other columns, make sure you consider their data type. VAP has already been transformed to a float for you. **"
   ]
  },
  {
   "cell_type": "code",
   "execution_count": 33,
   "metadata": {
    "collapsed": false,
    "jupyter": {
     "outputs_hidden": false
    }
   },
   "outputs": [],
   "source": [
    "data = dict(\n",
    "    type= 'choropleth',\n",
    "    locations= df['State Abv'],\n",
    "    locationmode= \"USA-states\",\n",
    "    z = df['Voting-Age Population (VAP)'],\n",
    "    colorbar = {'title':'In millions'}\n",
    ")\n",
    "            "
   ]
  },
  {
   "cell_type": "code",
   "execution_count": 34,
   "metadata": {},
   "outputs": [],
   "source": [
    "layout = dict(\n",
    "    title= \"2012 Election Data\",\n",
    "    geo = dict(\n",
    "        {'scope':'usa'}\n",
    "    )\n",
    ")"
   ]
  },
  {
   "cell_type": "code",
   "execution_count": 35,
   "metadata": {
    "collapsed": false,
    "jupyter": {
     "outputs_hidden": false
    }
   },
   "outputs": [
    {
     "data": {
      "application/vnd.plotly.v1+json": {
       "config": {
        "linkText": "Export to plot.ly",
        "plotlyServerURL": "https://plot.ly",
        "showLink": false
       },
       "data": [
        {
         "colorbar": {
          "title": {
           "text": "In millions"
          }
         },
         "locationmode": "USA-states",
         "locations": [
          "AL",
          "AK",
          "AZ",
          "AR",
          "CA",
          "CO",
          "CT",
          "DE",
          "District of Columbia",
          "FL",
          "GA",
          "HI",
          "ID",
          "IL",
          "IN",
          "IA",
          "KS",
          "KY",
          "LA",
          "ME",
          "MD",
          "MA",
          "MI",
          "MN",
          "MS",
          "MO",
          "MT",
          "NE",
          "NV",
          "NH",
          "NJ",
          "NM",
          "NY",
          "NC",
          "ND",
          "OH",
          "OK",
          "OR",
          "PA",
          "RI",
          "SC",
          "SD",
          "TN",
          "TX",
          "UT",
          "VT",
          "VA",
          "WA",
          "WV",
          "WI",
          "WY"
         ],
         "type": "choropleth",
         "z": [
          3707440,
          543763,
          4959270,
          2242740,
          28913129,
          3981208,
          2801375,
          715708,
          528848,
          15380947,
          7452696,
          1088335,
          1173727,
          9827043,
          4960376,
          2356209,
          2162442,
          3368684,
          3495847,
          1064779,
          4553853,
          5263550,
          7625576,
          4114820,
          2246931,
          4628500,
          785454,
          1396507,
          2105976,
          1047978,
          6847503,
          1573400,
          15344671,
          7496980,
          549955,
          8896930,
          2885093,
          3050747,
          10037099,
          834983,
          3662322,
          631472,
          4976284,
          19185395,
          1978956,
          502242,
          6348827,
          5329782,
          1472642,
          4417273,
          441726
         ]
        }
       ],
       "layout": {
        "autosize": true,
        "geo": {
         "scope": "usa"
        },
        "template": {
         "data": {
          "bar": [
           {
            "error_x": {
             "color": "#2a3f5f"
            },
            "error_y": {
             "color": "#2a3f5f"
            },
            "marker": {
             "line": {
              "color": "#E5ECF6",
              "width": 0.5
             }
            },
            "type": "bar"
           }
          ],
          "barpolar": [
           {
            "marker": {
             "line": {
              "color": "#E5ECF6",
              "width": 0.5
             }
            },
            "type": "barpolar"
           }
          ],
          "carpet": [
           {
            "aaxis": {
             "endlinecolor": "#2a3f5f",
             "gridcolor": "white",
             "linecolor": "white",
             "minorgridcolor": "white",
             "startlinecolor": "#2a3f5f"
            },
            "baxis": {
             "endlinecolor": "#2a3f5f",
             "gridcolor": "white",
             "linecolor": "white",
             "minorgridcolor": "white",
             "startlinecolor": "#2a3f5f"
            },
            "type": "carpet"
           }
          ],
          "choropleth": [
           {
            "colorbar": {
             "outlinewidth": 0,
             "ticks": ""
            },
            "type": "choropleth"
           }
          ],
          "contour": [
           {
            "colorbar": {
             "outlinewidth": 0,
             "ticks": ""
            },
            "colorscale": [
             [
              0,
              "#0d0887"
             ],
             [
              0.1111111111111111,
              "#46039f"
             ],
             [
              0.2222222222222222,
              "#7201a8"
             ],
             [
              0.3333333333333333,
              "#9c179e"
             ],
             [
              0.4444444444444444,
              "#bd3786"
             ],
             [
              0.5555555555555556,
              "#d8576b"
             ],
             [
              0.6666666666666666,
              "#ed7953"
             ],
             [
              0.7777777777777778,
              "#fb9f3a"
             ],
             [
              0.8888888888888888,
              "#fdca26"
             ],
             [
              1,
              "#f0f921"
             ]
            ],
            "type": "contour"
           }
          ],
          "contourcarpet": [
           {
            "colorbar": {
             "outlinewidth": 0,
             "ticks": ""
            },
            "type": "contourcarpet"
           }
          ],
          "heatmap": [
           {
            "colorbar": {
             "outlinewidth": 0,
             "ticks": ""
            },
            "colorscale": [
             [
              0,
              "#0d0887"
             ],
             [
              0.1111111111111111,
              "#46039f"
             ],
             [
              0.2222222222222222,
              "#7201a8"
             ],
             [
              0.3333333333333333,
              "#9c179e"
             ],
             [
              0.4444444444444444,
              "#bd3786"
             ],
             [
              0.5555555555555556,
              "#d8576b"
             ],
             [
              0.6666666666666666,
              "#ed7953"
             ],
             [
              0.7777777777777778,
              "#fb9f3a"
             ],
             [
              0.8888888888888888,
              "#fdca26"
             ],
             [
              1,
              "#f0f921"
             ]
            ],
            "type": "heatmap"
           }
          ],
          "heatmapgl": [
           {
            "colorbar": {
             "outlinewidth": 0,
             "ticks": ""
            },
            "colorscale": [
             [
              0,
              "#0d0887"
             ],
             [
              0.1111111111111111,
              "#46039f"
             ],
             [
              0.2222222222222222,
              "#7201a8"
             ],
             [
              0.3333333333333333,
              "#9c179e"
             ],
             [
              0.4444444444444444,
              "#bd3786"
             ],
             [
              0.5555555555555556,
              "#d8576b"
             ],
             [
              0.6666666666666666,
              "#ed7953"
             ],
             [
              0.7777777777777778,
              "#fb9f3a"
             ],
             [
              0.8888888888888888,
              "#fdca26"
             ],
             [
              1,
              "#f0f921"
             ]
            ],
            "type": "heatmapgl"
           }
          ],
          "histogram": [
           {
            "marker": {
             "colorbar": {
              "outlinewidth": 0,
              "ticks": ""
             }
            },
            "type": "histogram"
           }
          ],
          "histogram2d": [
           {
            "colorbar": {
             "outlinewidth": 0,
             "ticks": ""
            },
            "colorscale": [
             [
              0,
              "#0d0887"
             ],
             [
              0.1111111111111111,
              "#46039f"
             ],
             [
              0.2222222222222222,
              "#7201a8"
             ],
             [
              0.3333333333333333,
              "#9c179e"
             ],
             [
              0.4444444444444444,
              "#bd3786"
             ],
             [
              0.5555555555555556,
              "#d8576b"
             ],
             [
              0.6666666666666666,
              "#ed7953"
             ],
             [
              0.7777777777777778,
              "#fb9f3a"
             ],
             [
              0.8888888888888888,
              "#fdca26"
             ],
             [
              1,
              "#f0f921"
             ]
            ],
            "type": "histogram2d"
           }
          ],
          "histogram2dcontour": [
           {
            "colorbar": {
             "outlinewidth": 0,
             "ticks": ""
            },
            "colorscale": [
             [
              0,
              "#0d0887"
             ],
             [
              0.1111111111111111,
              "#46039f"
             ],
             [
              0.2222222222222222,
              "#7201a8"
             ],
             [
              0.3333333333333333,
              "#9c179e"
             ],
             [
              0.4444444444444444,
              "#bd3786"
             ],
             [
              0.5555555555555556,
              "#d8576b"
             ],
             [
              0.6666666666666666,
              "#ed7953"
             ],
             [
              0.7777777777777778,
              "#fb9f3a"
             ],
             [
              0.8888888888888888,
              "#fdca26"
             ],
             [
              1,
              "#f0f921"
             ]
            ],
            "type": "histogram2dcontour"
           }
          ],
          "mesh3d": [
           {
            "colorbar": {
             "outlinewidth": 0,
             "ticks": ""
            },
            "type": "mesh3d"
           }
          ],
          "parcoords": [
           {
            "line": {
             "colorbar": {
              "outlinewidth": 0,
              "ticks": ""
             }
            },
            "type": "parcoords"
           }
          ],
          "pie": [
           {
            "automargin": true,
            "type": "pie"
           }
          ],
          "scatter": [
           {
            "marker": {
             "colorbar": {
              "outlinewidth": 0,
              "ticks": ""
             }
            },
            "type": "scatter"
           }
          ],
          "scatter3d": [
           {
            "line": {
             "colorbar": {
              "outlinewidth": 0,
              "ticks": ""
             }
            },
            "marker": {
             "colorbar": {
              "outlinewidth": 0,
              "ticks": ""
             }
            },
            "type": "scatter3d"
           }
          ],
          "scattercarpet": [
           {
            "marker": {
             "colorbar": {
              "outlinewidth": 0,
              "ticks": ""
             }
            },
            "type": "scattercarpet"
           }
          ],
          "scattergeo": [
           {
            "marker": {
             "colorbar": {
              "outlinewidth": 0,
              "ticks": ""
             }
            },
            "type": "scattergeo"
           }
          ],
          "scattergl": [
           {
            "marker": {
             "colorbar": {
              "outlinewidth": 0,
              "ticks": ""
             }
            },
            "type": "scattergl"
           }
          ],
          "scattermapbox": [
           {
            "marker": {
             "colorbar": {
              "outlinewidth": 0,
              "ticks": ""
             }
            },
            "type": "scattermapbox"
           }
          ],
          "scatterpolar": [
           {
            "marker": {
             "colorbar": {
              "outlinewidth": 0,
              "ticks": ""
             }
            },
            "type": "scatterpolar"
           }
          ],
          "scatterpolargl": [
           {
            "marker": {
             "colorbar": {
              "outlinewidth": 0,
              "ticks": ""
             }
            },
            "type": "scatterpolargl"
           }
          ],
          "scatterternary": [
           {
            "marker": {
             "colorbar": {
              "outlinewidth": 0,
              "ticks": ""
             }
            },
            "type": "scatterternary"
           }
          ],
          "surface": [
           {
            "colorbar": {
             "outlinewidth": 0,
             "ticks": ""
            },
            "colorscale": [
             [
              0,
              "#0d0887"
             ],
             [
              0.1111111111111111,
              "#46039f"
             ],
             [
              0.2222222222222222,
              "#7201a8"
             ],
             [
              0.3333333333333333,
              "#9c179e"
             ],
             [
              0.4444444444444444,
              "#bd3786"
             ],
             [
              0.5555555555555556,
              "#d8576b"
             ],
             [
              0.6666666666666666,
              "#ed7953"
             ],
             [
              0.7777777777777778,
              "#fb9f3a"
             ],
             [
              0.8888888888888888,
              "#fdca26"
             ],
             [
              1,
              "#f0f921"
             ]
            ],
            "type": "surface"
           }
          ],
          "table": [
           {
            "cells": {
             "fill": {
              "color": "#EBF0F8"
             },
             "line": {
              "color": "white"
             }
            },
            "header": {
             "fill": {
              "color": "#C8D4E3"
             },
             "line": {
              "color": "white"
             }
            },
            "type": "table"
           }
          ]
         },
         "layout": {
          "annotationdefaults": {
           "arrowcolor": "#2a3f5f",
           "arrowhead": 0,
           "arrowwidth": 1
          },
          "coloraxis": {
           "colorbar": {
            "outlinewidth": 0,
            "ticks": ""
           }
          },
          "colorscale": {
           "diverging": [
            [
             0,
             "#8e0152"
            ],
            [
             0.1,
             "#c51b7d"
            ],
            [
             0.2,
             "#de77ae"
            ],
            [
             0.3,
             "#f1b6da"
            ],
            [
             0.4,
             "#fde0ef"
            ],
            [
             0.5,
             "#f7f7f7"
            ],
            [
             0.6,
             "#e6f5d0"
            ],
            [
             0.7,
             "#b8e186"
            ],
            [
             0.8,
             "#7fbc41"
            ],
            [
             0.9,
             "#4d9221"
            ],
            [
             1,
             "#276419"
            ]
           ],
           "sequential": [
            [
             0,
             "#0d0887"
            ],
            [
             0.1111111111111111,
             "#46039f"
            ],
            [
             0.2222222222222222,
             "#7201a8"
            ],
            [
             0.3333333333333333,
             "#9c179e"
            ],
            [
             0.4444444444444444,
             "#bd3786"
            ],
            [
             0.5555555555555556,
             "#d8576b"
            ],
            [
             0.6666666666666666,
             "#ed7953"
            ],
            [
             0.7777777777777778,
             "#fb9f3a"
            ],
            [
             0.8888888888888888,
             "#fdca26"
            ],
            [
             1,
             "#f0f921"
            ]
           ],
           "sequentialminus": [
            [
             0,
             "#0d0887"
            ],
            [
             0.1111111111111111,
             "#46039f"
            ],
            [
             0.2222222222222222,
             "#7201a8"
            ],
            [
             0.3333333333333333,
             "#9c179e"
            ],
            [
             0.4444444444444444,
             "#bd3786"
            ],
            [
             0.5555555555555556,
             "#d8576b"
            ],
            [
             0.6666666666666666,
             "#ed7953"
            ],
            [
             0.7777777777777778,
             "#fb9f3a"
            ],
            [
             0.8888888888888888,
             "#fdca26"
            ],
            [
             1,
             "#f0f921"
            ]
           ]
          },
          "colorway": [
           "#636efa",
           "#EF553B",
           "#00cc96",
           "#ab63fa",
           "#FFA15A",
           "#19d3f3",
           "#FF6692",
           "#B6E880",
           "#FF97FF",
           "#FECB52"
          ],
          "font": {
           "color": "#2a3f5f"
          },
          "geo": {
           "bgcolor": "white",
           "lakecolor": "white",
           "landcolor": "#E5ECF6",
           "showlakes": true,
           "showland": true,
           "subunitcolor": "white"
          },
          "hoverlabel": {
           "align": "left"
          },
          "hovermode": "closest",
          "mapbox": {
           "style": "light"
          },
          "paper_bgcolor": "white",
          "plot_bgcolor": "#E5ECF6",
          "polar": {
           "angularaxis": {
            "gridcolor": "white",
            "linecolor": "white",
            "ticks": ""
           },
           "bgcolor": "#E5ECF6",
           "radialaxis": {
            "gridcolor": "white",
            "linecolor": "white",
            "ticks": ""
           }
          },
          "scene": {
           "xaxis": {
            "backgroundcolor": "#E5ECF6",
            "gridcolor": "white",
            "gridwidth": 2,
            "linecolor": "white",
            "showbackground": true,
            "ticks": "",
            "zerolinecolor": "white"
           },
           "yaxis": {
            "backgroundcolor": "#E5ECF6",
            "gridcolor": "white",
            "gridwidth": 2,
            "linecolor": "white",
            "showbackground": true,
            "ticks": "",
            "zerolinecolor": "white"
           },
           "zaxis": {
            "backgroundcolor": "#E5ECF6",
            "gridcolor": "white",
            "gridwidth": 2,
            "linecolor": "white",
            "showbackground": true,
            "ticks": "",
            "zerolinecolor": "white"
           }
          },
          "shapedefaults": {
           "line": {
            "color": "#2a3f5f"
           }
          },
          "ternary": {
           "aaxis": {
            "gridcolor": "white",
            "linecolor": "white",
            "ticks": ""
           },
           "baxis": {
            "gridcolor": "white",
            "linecolor": "white",
            "ticks": ""
           },
           "bgcolor": "#E5ECF6",
           "caxis": {
            "gridcolor": "white",
            "linecolor": "white",
            "ticks": ""
           }
          },
          "title": {
           "x": 0.05
          },
          "xaxis": {
           "automargin": true,
           "gridcolor": "white",
           "linecolor": "white",
           "ticks": "",
           "title": {
            "standoff": 15
           },
           "zerolinecolor": "white",
           "zerolinewidth": 2
          },
          "yaxis": {
           "automargin": true,
           "gridcolor": "white",
           "linecolor": "white",
           "ticks": "",
           "title": {
            "standoff": 15
           },
           "zerolinecolor": "white",
           "zerolinewidth": 2
          }
         }
        },
        "title": {
         "text": "2012 Election Data"
        }
       }
      },
      "image/png": "[encoded data removed]",
      "text/html": [
       "<div>\n",
       "        \n",
       "        \n",
       "            <div id=\"1e70737b-a691-4fd5-a49f-c16d3a87e09d\" class=\"plotly-graph-div\" style=\"height:525px; width:100%;\"></div>\n",
       "            <script type=\"text/javascript\">\n",
       "                require([\"plotly\"], function(Plotly) {\n",
       "                    window.PLOTLYENV=window.PLOTLYENV || {};\n",
       "                    \n",
       "                if (document.getElementById(\"1e70737b-a691-4fd5-a49f-c16d3a87e09d\")) {\n",
       "                    Plotly.newPlot(\n",
       "                        '1e70737b-a691-4fd5-a49f-c16d3a87e09d',\n",
       "                        [{\"colorbar\": {\"title\": {\"text\": \"In millions\"}}, \"locationmode\": \"USA-states\", \"locations\": [\"AL\", \"AK\", \"AZ\", \"AR\", \"CA\", \"CO\", \"CT\", \"DE\", \"District of Columbia\", \"FL\", \"GA\", \"HI\", \"ID\", \"IL\", \"IN\", \"IA\", \"KS\", \"KY\", \"LA\", \"ME\", \"MD\", \"MA\", \"MI\", \"MN\", \"MS\", \"MO\", \"MT\", \"NE\", \"NV\", \"NH\", \"NJ\", \"NM\", \"NY\", \"NC\", \"ND\", \"OH\", \"OK\", \"OR\", \"PA\", \"RI\", \"SC\", \"SD\", \"TN\", \"TX\", \"UT\", \"VT\", \"VA\", \"WA\", \"WV\", \"WI\", \"WY\"], \"type\": \"choropleth\", \"z\": [3707440.0, 543763.0, 4959270.0, 2242740.0, 28913129.0, 3981208.0, 2801375.0, 715708.0, 528848.0, 15380947.0, 7452696.0, 1088335.0, 1173727.0, 9827043.0, 4960376.0, 2356209.0, 2162442.0, 3368684.0, 3495847.0, 1064779.0, 4553853.0, 5263550.0, 7625576.0, 4114820.0, 2246931.0, 4628500.0, 785454.0, 1396507.0, 2105976.0, 1047978.0, 6847503.0, 1573400.0, 15344671.0, 7496980.0, 549955.0, 8896930.0, 2885093.0, 3050747.0, 10037099.0, 834983.0, 3662322.0, 631472.0, 4976284.0, 19185395.0, 1978956.0, 502242.0, 6348827.0, 5329782.0, 1472642.0, 4417273.0, 441726.0]}],\n",
       "                        {\"geo\": {\"scope\": \"usa\"}, \"template\": {\"data\": {\"bar\": [{\"error_x\": {\"color\": \"#2a3f5f\"}, \"error_y\": {\"color\": \"#2a3f5f\"}, \"marker\": {\"line\": {\"color\": \"#E5ECF6\", \"width\": 0.5}}, \"type\": \"bar\"}], \"barpolar\": [{\"marker\": {\"line\": {\"color\": \"#E5ECF6\", \"width\": 0.5}}, \"type\": \"barpolar\"}], \"carpet\": [{\"aaxis\": {\"endlinecolor\": \"#2a3f5f\", \"gridcolor\": \"white\", \"linecolor\": \"white\", \"minorgridcolor\": \"white\", \"startlinecolor\": \"#2a3f5f\"}, \"baxis\": {\"endlinecolor\": \"#2a3f5f\", \"gridcolor\": \"white\", \"linecolor\": \"white\", \"minorgridcolor\": \"white\", \"startlinecolor\": \"#2a3f5f\"}, \"type\": \"carpet\"}], \"choropleth\": [{\"colorbar\": {\"outlinewidth\": 0, \"ticks\": \"\"}, \"type\": \"choropleth\"}], \"contour\": [{\"colorbar\": {\"outlinewidth\": 0, \"ticks\": \"\"}, \"colorscale\": [[0.0, \"#0d0887\"], [0.1111111111111111, \"#46039f\"], [0.2222222222222222, \"#7201a8\"], [0.3333333333333333, \"#9c179e\"], [0.4444444444444444, \"#bd3786\"], [0.5555555555555556, \"#d8576b\"], [0.6666666666666666, \"#ed7953\"], [0.7777777777777778, \"#fb9f3a\"], [0.8888888888888888, \"#fdca26\"], [1.0, \"#f0f921\"]], \"type\": \"contour\"}], \"contourcarpet\": [{\"colorbar\": {\"outlinewidth\": 0, \"ticks\": \"\"}, \"type\": \"contourcarpet\"}], \"heatmap\": [{\"colorbar\": {\"outlinewidth\": 0, \"ticks\": \"\"}, \"colorscale\": [[0.0, \"#0d0887\"], [0.1111111111111111, \"#46039f\"], [0.2222222222222222, \"#7201a8\"], [0.3333333333333333, \"#9c179e\"], [0.4444444444444444, \"#bd3786\"], [0.5555555555555556, \"#d8576b\"], [0.6666666666666666, \"#ed7953\"], [0.7777777777777778, \"#fb9f3a\"], [0.8888888888888888, \"#fdca26\"], [1.0, \"#f0f921\"]], \"type\": \"heatmap\"}], \"heatmapgl\": [{\"colorbar\": {\"outlinewidth\": 0, \"ticks\": \"\"}, \"colorscale\": [[0.0, \"#0d0887\"], [0.1111111111111111, \"#46039f\"], [0.2222222222222222, \"#7201a8\"], [0.3333333333333333, \"#9c179e\"], [0.4444444444444444, \"#bd3786\"], [0.5555555555555556, \"#d8576b\"], [0.6666666666666666, \"#ed7953\"], [0.7777777777777778, \"#fb9f3a\"], [0.8888888888888888, \"#fdca26\"], [1.0, \"#f0f921\"]], \"type\": \"heatmapgl\"}], \"histogram\": [{\"marker\": {\"colorbar\": {\"outlinewidth\": 0, \"ticks\": \"\"}}, \"type\": \"histogram\"}], \"histogram2d\": [{\"colorbar\": {\"outlinewidth\": 0, \"ticks\": \"\"}, \"colorscale\": [[0.0, \"#0d0887\"], [0.1111111111111111, \"#46039f\"], [0.2222222222222222, \"#7201a8\"], [0.3333333333333333, \"#9c179e\"], [0.4444444444444444, \"#bd3786\"], [0.5555555555555556, \"#d8576b\"], [0.6666666666666666, \"#ed7953\"], [0.7777777777777778, \"#fb9f3a\"], [0.8888888888888888, \"#fdca26\"], [1.0, \"#f0f921\"]], \"type\": \"histogram2d\"}], \"histogram2dcontour\": [{\"colorbar\": {\"outlinewidth\": 0, \"ticks\": \"\"}, \"colorscale\": [[0.0, \"#0d0887\"], [0.1111111111111111, \"#46039f\"], [0.2222222222222222, \"#7201a8\"], [0.3333333333333333, \"#9c179e\"], [0.4444444444444444, \"#bd3786\"], [0.5555555555555556, \"#d8576b\"], [0.6666666666666666, \"#ed7953\"], [0.7777777777777778, \"#fb9f3a\"], [0.8888888888888888, \"#fdca26\"], [1.0, \"#f0f921\"]], \"type\": \"histogram2dcontour\"}], \"mesh3d\": [{\"colorbar\": {\"outlinewidth\": 0, \"ticks\": \"\"}, \"type\": \"mesh3d\"}], \"parcoords\": [{\"line\": {\"colorbar\": {\"outlinewidth\": 0, \"ticks\": \"\"}}, \"type\": \"parcoords\"}], \"pie\": [{\"automargin\": true, \"type\": \"pie\"}], \"scatter\": [{\"marker\": {\"colorbar\": {\"outlinewidth\": 0, \"ticks\": \"\"}}, \"type\": \"scatter\"}], \"scatter3d\": [{\"line\": {\"colorbar\": {\"outlinewidth\": 0, \"ticks\": \"\"}}, \"marker\": {\"colorbar\": {\"outlinewidth\": 0, \"ticks\": \"\"}}, \"type\": \"scatter3d\"}], \"scattercarpet\": [{\"marker\": {\"colorbar\": {\"outlinewidth\": 0, \"ticks\": \"\"}}, \"type\": \"scattercarpet\"}], \"scattergeo\": [{\"marker\": {\"colorbar\": {\"outlinewidth\": 0, \"ticks\": \"\"}}, \"type\": \"scattergeo\"}], \"scattergl\": [{\"marker\": {\"colorbar\": {\"outlinewidth\": 0, \"ticks\": \"\"}}, \"type\": \"scattergl\"}], \"scattermapbox\": [{\"marker\": {\"colorbar\": {\"outlinewidth\": 0, \"ticks\": \"\"}}, \"type\": \"scattermapbox\"}], \"scatterpolar\": [{\"marker\": {\"colorbar\": {\"outlinewidth\": 0, \"ticks\": \"\"}}, \"type\": \"scatterpolar\"}], \"scatterpolargl\": [{\"marker\": {\"colorbar\": {\"outlinewidth\": 0, \"ticks\": \"\"}}, \"type\": \"scatterpolargl\"}], \"scatterternary\": [{\"marker\": {\"colorbar\": {\"outlinewidth\": 0, \"ticks\": \"\"}}, \"type\": \"scatterternary\"}], \"surface\": [{\"colorbar\": {\"outlinewidth\": 0, \"ticks\": \"\"}, \"colorscale\": [[0.0, \"#0d0887\"], [0.1111111111111111, \"#46039f\"], [0.2222222222222222, \"#7201a8\"], [0.3333333333333333, \"#9c179e\"], [0.4444444444444444, \"#bd3786\"], [0.5555555555555556, \"#d8576b\"], [0.6666666666666666, \"#ed7953\"], [0.7777777777777778, \"#fb9f3a\"], [0.8888888888888888, \"#fdca26\"], [1.0, \"#f0f921\"]], \"type\": \"surface\"}], \"table\": [{\"cells\": {\"fill\": {\"color\": \"#EBF0F8\"}, \"line\": {\"color\": \"white\"}}, \"header\": {\"fill\": {\"color\": \"#C8D4E3\"}, \"line\": {\"color\": \"white\"}}, \"type\": \"table\"}]}, \"layout\": {\"annotationdefaults\": {\"arrowcolor\": \"#2a3f5f\", \"arrowhead\": 0, \"arrowwidth\": 1}, \"coloraxis\": {\"colorbar\": {\"outlinewidth\": 0, \"ticks\": \"\"}}, \"colorscale\": {\"diverging\": [[0, \"#8e0152\"], [0.1, \"#c51b7d\"], [0.2, \"#de77ae\"], [0.3, \"#f1b6da\"], [0.4, \"#fde0ef\"], [0.5, \"#f7f7f7\"], [0.6, \"#e6f5d0\"], [0.7, \"#b8e186\"], [0.8, \"#7fbc41\"], [0.9, \"#4d9221\"], [1, \"#276419\"]], \"sequential\": [[0.0, \"#0d0887\"], [0.1111111111111111, \"#46039f\"], [0.2222222222222222, \"#7201a8\"], [0.3333333333333333, \"#9c179e\"], [0.4444444444444444, \"#bd3786\"], [0.5555555555555556, \"#d8576b\"], [0.6666666666666666, \"#ed7953\"], [0.7777777777777778, \"#fb9f3a\"], [0.8888888888888888, \"#fdca26\"], [1.0, \"#f0f921\"]], \"sequentialminus\": [[0.0, \"#0d0887\"], [0.1111111111111111, \"#46039f\"], [0.2222222222222222, \"#7201a8\"], [0.3333333333333333, \"#9c179e\"], [0.4444444444444444, \"#bd3786\"], [0.5555555555555556, \"#d8576b\"], [0.6666666666666666, \"#ed7953\"], [0.7777777777777778, \"#fb9f3a\"], [0.8888888888888888, \"#fdca26\"], [1.0, \"#f0f921\"]]}, \"colorway\": [\"#636efa\", \"#EF553B\", \"#00cc96\", \"#ab63fa\", \"#FFA15A\", \"#19d3f3\", \"#FF6692\", \"#B6E880\", \"#FF97FF\", \"#FECB52\"], \"font\": {\"color\": \"#2a3f5f\"}, \"geo\": {\"bgcolor\": \"white\", \"lakecolor\": \"white\", \"landcolor\": \"#E5ECF6\", \"showlakes\": true, \"showland\": true, \"subunitcolor\": \"white\"}, \"hoverlabel\": {\"align\": \"left\"}, \"hovermode\": \"closest\", \"mapbox\": {\"style\": \"light\"}, \"paper_bgcolor\": \"white\", \"plot_bgcolor\": \"#E5ECF6\", \"polar\": {\"angularaxis\": {\"gridcolor\": \"white\", \"linecolor\": \"white\", \"ticks\": \"\"}, \"bgcolor\": \"#E5ECF6\", \"radialaxis\": {\"gridcolor\": \"white\", \"linecolor\": \"white\", \"ticks\": \"\"}}, \"scene\": {\"xaxis\": {\"backgroundcolor\": \"#E5ECF6\", \"gridcolor\": \"white\", \"gridwidth\": 2, \"linecolor\": \"white\", \"showbackground\": true, \"ticks\": \"\", \"zerolinecolor\": \"white\"}, \"yaxis\": {\"backgroundcolor\": \"#E5ECF6\", \"gridcolor\": \"white\", \"gridwidth\": 2, \"linecolor\": \"white\", \"showbackground\": true, \"ticks\": \"\", \"zerolinecolor\": \"white\"}, \"zaxis\": {\"backgroundcolor\": \"#E5ECF6\", \"gridcolor\": \"white\", \"gridwidth\": 2, \"linecolor\": \"white\", \"showbackground\": true, \"ticks\": \"\", \"zerolinecolor\": \"white\"}}, \"shapedefaults\": {\"line\": {\"color\": \"#2a3f5f\"}}, \"ternary\": {\"aaxis\": {\"gridcolor\": \"white\", \"linecolor\": \"white\", \"ticks\": \"\"}, \"baxis\": {\"gridcolor\": \"white\", \"linecolor\": \"white\", \"ticks\": \"\"}, \"bgcolor\": \"#E5ECF6\", \"caxis\": {\"gridcolor\": \"white\", \"linecolor\": \"white\", \"ticks\": \"\"}}, \"title\": {\"x\": 0.05}, \"xaxis\": {\"automargin\": true, \"gridcolor\": \"white\", \"linecolor\": \"white\", \"ticks\": \"\", \"title\": {\"standoff\": 15}, \"zerolinecolor\": \"white\", \"zerolinewidth\": 2}, \"yaxis\": {\"automargin\": true, \"gridcolor\": \"white\", \"linecolor\": \"white\", \"ticks\": \"\", \"title\": {\"standoff\": 15}, \"zerolinecolor\": \"white\", \"zerolinewidth\": 2}}}, \"title\": {\"text\": \"2012 Election Data\"}},\n",
       "                        {\"responsive\": true}\n",
       "                    ).then(function(){\n",
       "                            \n",
       "var gd = document.getElementById('1e70737b-a691-4fd5-a49f-c16d3a87e09d');\n",
       "var x = new MutationObserver(function (mutations, observer) {{\n",
       "        var display = window.getComputedStyle(gd).display;\n",
       "        if (!display || display === 'none') {{\n",
       "            console.log([gd, 'removed!']);\n",
       "            Plotly.purge(gd);\n",
       "            observer.disconnect();\n",
       "        }}\n",
       "}});\n",
       "\n",
       "// Listen for the removal of the full notebook cells\n",
       "var notebookContainer = gd.closest('#notebook-container');\n",
       "if (notebookContainer) {{\n",
       "    x.observe(notebookContainer, {childList: true});\n",
       "}}\n",
       "\n",
       "// Listen for the clearing of the current output cell\n",
       "var outputEl = gd.closest('.output');\n",
       "if (outputEl) {{\n",
       "    x.observe(outputEl, {childList: true});\n",
       "}}\n",
       "\n",
       "                        })\n",
       "                };\n",
       "                });\n",
       "            </script>\n",
       "        </div>"
      ]
     },
     "metadata": {},
     "output_type": "display_data"
    }
   ],
   "source": [
    "choromap = go.Figure(data = [data],layout = layout)\n",
    "iplot(choromap,validate=False)"
   ]
  },
  {
   "cell_type": "markdown",
   "metadata": {},
   "source": [
    "# Great Job!"
   ]
  }
 ],
 "metadata": {
  "kernelspec": {
   "display_name": "Python 3",
   "language": "python",
   "name": "python3"
  },
  "language_info": {
   "codemirror_mode": {
    "name": "ipython",
    "version": 3
   },
   "file_extension": ".py",
   "mimetype": "text/x-python",
   "name": "python",
   "nbconvert_exporter": "python",
   "pygments_lexer": "ipython3",
   "version": "3.7.6"
  }
 },
 "nbformat": 4,
 "nbformat_minor": 4
}
